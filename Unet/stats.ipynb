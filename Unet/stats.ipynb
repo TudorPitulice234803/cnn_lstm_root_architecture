{
 "cells": [
  {
   "cell_type": "code",
   "execution_count": 1,
   "id": "cb0438f3-d9f2-4b91-9bcc-216d840cd8b8",
   "metadata": {},
   "outputs": [
    {
     "name": "stderr",
     "output_type": "stream",
     "text": [
      "2025-08-21 13:50:56.326475: I tensorflow/core/util/port.cc:113] oneDNN custom operations are on. You may see slightly different numerical results due to floating-point round-off errors from different computation orders. To turn them off, set the environment variable `TF_ENABLE_ONEDNN_OPTS=0`.\n",
      "2025-08-21 13:50:56.366898: E external/local_xla/xla/stream_executor/cuda/cuda_dnn.cc:9261] Unable to register cuDNN factory: Attempting to register factory for plugin cuDNN when one has already been registered\n",
      "2025-08-21 13:50:56.366957: E external/local_xla/xla/stream_executor/cuda/cuda_fft.cc:607] Unable to register cuFFT factory: Attempting to register factory for plugin cuFFT when one has already been registered\n",
      "2025-08-21 13:50:56.368438: E external/local_xla/xla/stream_executor/cuda/cuda_blas.cc:1515] Unable to register cuBLAS factory: Attempting to register factory for plugin cuBLAS when one has already been registered\n",
      "2025-08-21 13:50:56.376493: I tensorflow/core/platform/cpu_feature_guard.cc:182] This TensorFlow binary is optimized to use available CPU instructions in performance-critical operations.\n",
      "To enable the following instructions: AVX2 AVX512F AVX512_VNNI AVX512_BF16 FMA, in other operations, rebuild TensorFlow with the appropriate compiler flags.\n"
     ]
    },
    {
     "name": "stdout",
     "output_type": "stream",
     "text": [
      "Found 3285 images belonging to 2 classes.\n",
      "Found 3285 images belonging to 2 classes.\n",
      "Found 109 images belonging to 1 classes.\n",
      "Found 108 images belonging to 1 classes.\n",
      "\n",
      "Training Run 1/5 (Seed: 42)\n",
      "==================================================\n"
     ]
    },
    {
     "name": "stderr",
     "output_type": "stream",
     "text": [
      "2025-08-21 13:50:58.873476: W tensorflow/core/common_runtime/gpu/gpu_bfc_allocator.cc:47] Overriding orig_value setting because the TF_FORCE_GPU_ALLOW_GROWTH environment variable is set. Original config value was 0.\n",
      "2025-08-21 13:50:58.874006: I tensorflow/core/common_runtime/gpu/gpu_device.cc:1929] Created device /job:localhost/replica:0/task:0/device:GPU:0 with 32985 MB memory:  -> device: 0, name: NVIDIA RTX 6000 Ada Generation, pci bus id: 0000:81:00.0, compute capability: 8.9\n"
     ]
    },
    {
     "name": "stdout",
     "output_type": "stream",
     "text": [
      "Epoch 1/3\n"
     ]
    },
    {
     "name": "stderr",
     "output_type": "stream",
     "text": [
      "2025-08-21 13:51:03.296730: E tensorflow/core/grappler/optimizers/meta_optimizer.cc:961] layout failed: INVALID_ARGUMENT: Size of values 0 does not match size of permutation 4 @ fanin shape inmodel/dropout/dropout/SelectV2-2-TransposeNHWCToNCHW-LayoutOptimizer\n",
      "2025-08-21 13:51:03.926178: I external/local_xla/xla/stream_executor/cuda/cuda_dnn.cc:454] Loaded cuDNN version 8906\n",
      "2025-08-21 13:51:05.793674: I external/local_xla/xla/service/service.cc:168] XLA service 0x7f7a74c9fb10 initialized for platform CUDA (this does not guarantee that XLA will be used). Devices:\n",
      "2025-08-21 13:51:05.793718: I external/local_xla/xla/service/service.cc:176]   StreamExecutor device (0): NVIDIA RTX 6000 Ada Generation, Compute Capability 8.9\n",
      "2025-08-21 13:51:05.801880: I tensorflow/compiler/mlir/tensorflow/utils/dump_mlir_util.cc:269] disabling MLIR crash reproducer, set env var `MLIR_CRASH_REPRODUCER_DIRECTORY` to enable.\n",
      "WARNING: All log messages before absl::InitializeLog() is called are written to STDERR\n",
      "I0000 00:00:1755784265.936787  543056 device_compiler.h:186] Compiled cluster using XLA!  This line is logged at most once for the lifetime of the process.\n"
     ]
    },
    {
     "name": "stdout",
     "output_type": "stream",
     "text": [
      "1000/1000 [==============================] - 42s 25ms/step - loss: 0.0373 - f1: 0.6850 - val_loss: 0.0140 - val_f1: 0.3966\n",
      "Epoch 2/3\n",
      "1000/1000 [==============================] - 21s 21ms/step - loss: 0.0035 - f1: 0.8761 - val_loss: 0.0169 - val_f1: 0.6677\n",
      "Epoch 3/3\n",
      "1000/1000 [==============================] - 21s 21ms/step - loss: 0.0023 - f1: 0.8954 - val_loss: 0.0201 - val_f1: 0.6618\n"
     ]
    },
    {
     "name": "stderr",
     "output_type": "stream",
     "text": [
      "/usr/local/lib/python3.11/dist-packages/keras/src/engine/training.py:3103: UserWarning: You are saving your model as an HDF5 file via `model.save()`. This file format is considered legacy. We recommend using instead the native Keras format, e.g. `model.save('my_model.keras')`.\n",
      "  saving_api.save_model(\n"
     ]
    },
    {
     "name": "stdout",
     "output_type": "stream",
     "text": [
      "Found 3285 images belonging to 2 classes.\n",
      "Found 3285 images belonging to 2 classes.\n",
      "Found 109 images belonging to 1 classes.\n",
      "Found 108 images belonging to 1 classes.\n",
      "\n",
      "Training Run 2/5 (Seed: 123)\n",
      "==================================================\n",
      "Epoch 1/3\n"
     ]
    },
    {
     "name": "stderr",
     "output_type": "stream",
     "text": [
      "2025-08-21 13:52:27.278552: E tensorflow/core/grappler/optimizers/meta_optimizer.cc:961] layout failed: INVALID_ARGUMENT: Size of values 0 does not match size of permutation 4 @ fanin shape inmodel/dropout/dropout/SelectV2-2-TransposeNHWCToNCHW-LayoutOptimizer\n"
     ]
    },
    {
     "name": "stdout",
     "output_type": "stream",
     "text": [
      "1000/1000 [==============================] - 34s 21ms/step - loss: 0.0453 - f1: 0.6134 - val_loss: 0.0142 - val_f1: 0.5692\n",
      "Epoch 2/3\n",
      "1000/1000 [==============================] - 21s 21ms/step - loss: 0.0036 - f1: 0.8831 - val_loss: 0.0171 - val_f1: 0.6972\n",
      "Epoch 3/3\n",
      "1000/1000 [==============================] - 21s 21ms/step - loss: 0.0024 - f1: 0.8928 - val_loss: 0.0110 - val_f1: 0.7591\n",
      "Found 3285 images belonging to 2 classes.\n",
      "Found 3285 images belonging to 2 classes.\n",
      "Found 109 images belonging to 1 classes.\n",
      "Found 108 images belonging to 1 classes.\n",
      "\n",
      "Training Run 3/5 (Seed: 456)\n",
      "==================================================\n",
      "Epoch 1/3\n"
     ]
    },
    {
     "name": "stderr",
     "output_type": "stream",
     "text": [
      "2025-08-21 13:53:43.939826: E tensorflow/core/grappler/optimizers/meta_optimizer.cc:961] layout failed: INVALID_ARGUMENT: Size of values 0 does not match size of permutation 4 @ fanin shape inmodel/dropout/dropout/SelectV2-2-TransposeNHWCToNCHW-LayoutOptimizer\n"
     ]
    },
    {
     "name": "stdout",
     "output_type": "stream",
     "text": [
      "1000/1000 [==============================] - 33s 22ms/step - loss: 0.0650 - f1: 0.6106 - val_loss: 0.0100 - val_f1: 0.7638\n",
      "Epoch 2/3\n",
      "1000/1000 [==============================] - 21s 21ms/step - loss: 0.0045 - f1: 0.8754 - val_loss: 0.0191 - val_f1: 0.5966\n",
      "Epoch 3/3\n",
      "1000/1000 [==============================] - 21s 21ms/step - loss: 0.0025 - f1: 0.8971 - val_loss: 0.0201 - val_f1: 0.5913\n",
      "Found 3285 images belonging to 2 classes.\n",
      "Found 3285 images belonging to 2 classes.\n",
      "Found 109 images belonging to 1 classes.\n",
      "Found 108 images belonging to 1 classes.\n",
      "\n",
      "Training Run 4/5 (Seed: 789)\n",
      "==================================================\n",
      "Epoch 1/3\n"
     ]
    },
    {
     "name": "stderr",
     "output_type": "stream",
     "text": [
      "2025-08-21 13:54:59.799787: E tensorflow/core/grappler/optimizers/meta_optimizer.cc:961] layout failed: INVALID_ARGUMENT: Size of values 0 does not match size of permutation 4 @ fanin shape inmodel/dropout/dropout/SelectV2-2-TransposeNHWCToNCHW-LayoutOptimizer\n"
     ]
    },
    {
     "name": "stdout",
     "output_type": "stream",
     "text": [
      "1000/1000 [==============================] - 35s 23ms/step - loss: 0.0818 - f1: 0.4698 - val_loss: 0.0281 - val_f1: 0.0000e+00\n",
      "Epoch 2/3\n",
      "1000/1000 [==============================] - 22s 22ms/step - loss: 0.0061 - f1: 0.8522 - val_loss: 0.0144 - val_f1: 0.7195\n",
      "Epoch 3/3\n",
      "1000/1000 [==============================] - 22s 22ms/step - loss: 0.0030 - f1: 0.8880 - val_loss: 0.0114 - val_f1: 0.7083\n",
      "Found 3285 images belonging to 2 classes.\n",
      "Found 3285 images belonging to 2 classes.\n",
      "Found 109 images belonging to 1 classes.\n",
      "Found 108 images belonging to 1 classes.\n",
      "\n",
      "Training Run 5/5 (Seed: 999)\n",
      "==================================================\n",
      "Epoch 1/3\n"
     ]
    },
    {
     "name": "stderr",
     "output_type": "stream",
     "text": [
      "2025-08-21 13:56:20.189025: E tensorflow/core/grappler/optimizers/meta_optimizer.cc:961] layout failed: INVALID_ARGUMENT: Size of values 0 does not match size of permutation 4 @ fanin shape inmodel/dropout/dropout/SelectV2-2-TransposeNHWCToNCHW-LayoutOptimizer\n"
     ]
    },
    {
     "name": "stdout",
     "output_type": "stream",
     "text": [
      "1000/1000 [==============================] - 35s 23ms/step - loss: 0.0703 - f1: 0.4985 - val_loss: 0.0159 - val_f1: 0.5875\n",
      "Epoch 2/3\n",
      "1000/1000 [==============================] - 23s 23ms/step - loss: 0.0063 - f1: 0.8387 - val_loss: 0.0177 - val_f1: 0.6798\n",
      "Epoch 3/3\n",
      "1000/1000 [==============================] - 21s 21ms/step - loss: 0.0036 - f1: 0.8600 - val_loss: 0.0336 - val_f1: 0.2065\n"
     ]
    }
   ],
   "source": [
    "import os\n",
    "import numpy as np\n",
    "import tensorflow as tf\n",
    "from tensorflow.keras.preprocessing.image import ImageDataGenerator\n",
    "from sklearn.metrics import f1_score, precision_score, recall_score\n",
    "import datetime\n",
    "from helpers import f1 as f1_metric\n",
    "from model import unet\n",
    "\n",
    "def set_random_seeds(seed):\n",
    "    \"\"\"Set random seeds for reproducibility.\"\"\"\n",
    "    np.random.seed(seed)\n",
    "    tf.random.set_seed(seed)\n",
    "    os.environ['PYTHONHASHSEED'] = str(seed)\n",
    "\n",
    "def create_data_generators():\n",
    "    \"\"\"Create data generators for training and validation.\"\"\"\n",
    "    train_image_datagen = ImageDataGenerator(rescale=1./255)\n",
    "    train_image_generator = train_image_datagen.flow_from_directory(\n",
    "        'data_v3_processed/train/images',\n",
    "        target_size=(256, 256),\n",
    "        batch_size=8,\n",
    "        class_mode=None,\n",
    "        color_mode='rgb',\n",
    "        seed=42)\n",
    "    \n",
    "    train_mask_datagen = ImageDataGenerator()\n",
    "    train_mask_generator = train_mask_datagen.flow_from_directory(\n",
    "        'data_v3_processed/train/masks',\n",
    "        target_size=(256, 256),\n",
    "        batch_size=8,\n",
    "        class_mode=None,\n",
    "        color_mode='grayscale',\n",
    "        seed=42)\n",
    "\n",
    "    val_image_datagen = ImageDataGenerator(rescale=1./255)\n",
    "    val_image_generator = val_image_datagen.flow_from_directory(\n",
    "        'data_v3_processed/val/images',\n",
    "        target_size=(256, 256),\n",
    "        batch_size=8,\n",
    "        class_mode=None,\n",
    "        color_mode='rgb',\n",
    "        seed=42,\n",
    "        shuffle=False)\n",
    "    \n",
    "    val_mask_datagen = ImageDataGenerator()\n",
    "    val_mask_generator = val_mask_datagen.flow_from_directory(\n",
    "        'data_v3_processed/val/masks',\n",
    "        target_size=(256, 256),\n",
    "        batch_size=8,\n",
    "        class_mode=None,\n",
    "        color_mode='grayscale',\n",
    "        seed=42,\n",
    "        shuffle=False)\n",
    "\n",
    "    return train_image_generator, train_mask_generator, val_image_generator, val_mask_generator\n",
    "    \n",
    "def combine_generator(image_generator, mask_generator):\n",
    "    while True:\n",
    "        for img_batch, mask_batch in zip(image_generator, mask_generator):\n",
    "            try:\n",
    "                # Convert to numpy arrays\n",
    "                img_batch = np.asarray(img_batch).astype(np.float32)\n",
    "                mask_batch = np.asarray(mask_batch)\n",
    "\n",
    "                # Skip batches with mismatched sizes\n",
    "                if img_batch.shape[0] != mask_batch.shape[0]:\n",
    "                    continue\n",
    "                \n",
    "                # Skip empty batches\n",
    "                if img_batch.shape[0] == 0:\n",
    "                    continue\n",
    "\n",
    "                # Normalize masks if needed\n",
    "                if mask_batch.max() > 1:\n",
    "                    mask_batch = mask_batch / 255.0\n",
    "\n",
    "                # Handle mask channel conversion\n",
    "                if mask_batch.ndim == 4 and mask_batch.shape[-1] == 3:\n",
    "                    mask_batch = np.mean(mask_batch, axis=-1, keepdims=True)\n",
    "                elif mask_batch.ndim == 3:\n",
    "                    mask_batch = np.expand_dims(mask_batch, axis=-1)\n",
    "\n",
    "                # Force binary and correct dtype\n",
    "                mask_batch = (mask_batch > 0.5).astype(np.float32)\n",
    "\n",
    "                # Final shape validation\n",
    "                if (mask_batch.ndim != 4 or mask_batch.shape[-1] != 1 or \n",
    "                    img_batch.shape[0] != mask_batch.shape[0]):\n",
    "                    continue\n",
    "\n",
    "                yield img_batch, mask_batch\n",
    "                \n",
    "            except Exception as e:\n",
    "                print(f\"Generator error: {e}\")\n",
    "                continue\n",
    "\n",
    "def train_and_evaluate_model(run_number, train_generator, val_generator, \n",
    "                           epochs=3, steps_per_epoch=1000, validation_steps=5, \n",
    "                           random_seed=None):\n",
    "    \"\"\"Train a single model and return evaluation metrics.\"\"\"\n",
    "    print(f\"\\nTraining Run {run_number + 1}/5 (Seed: {random_seed})\")\n",
    "    print(\"=\" * 50)\n",
    "    \n",
    "    if random_seed is not None:\n",
    "        set_random_seeds(random_seed)\n",
    "    \n",
    "    model = unet(256, 256, 3)\n",
    "    \n",
    "    model.compile(optimizer='adam', \n",
    "                 loss='binary_crossentropy', \n",
    "                 metrics=[f1_metric])\n",
    "    \n",
    "    try:\n",
    "        history = model.fit(train_generator,\n",
    "                           validation_data=val_generator,\n",
    "                           epochs=epochs,\n",
    "                           steps_per_epoch=steps_per_epoch,\n",
    "                           validation_steps=validation_steps,\n",
    "                           verbose=1)\n",
    "\n",
    "        model_path = os.path.join(\"models\", f\"unet_run{run_number+1}.h5\")\n",
    "        os.makedirs(\"models\", exist_ok=True)\n",
    "        model.save(model_path)\n",
    "        \n",
    "        return model_path\n",
    "        \n",
    "    except Exception as e:\n",
    "        print(f\"ERROR in training: {e}\")\n",
    "        return None\n",
    "\n",
    "# Main execution\n",
    "random_seeds = [42, 123, 456, 789, 999]\n",
    "\n",
    "for run in range(5):\n",
    "    # CREATE FRESH GENERATORS FOR EACH RUN - this fixes the state issue\n",
    "    train_image_gen, train_mask_gen, val_image_gen, val_mask_gen = create_data_generators()\n",
    "    \n",
    "    train_generator = combine_generator(train_image_gen, train_mask_gen)\n",
    "    val_generator = combine_generator(val_image_gen, val_mask_gen)\n",
    "    \n",
    "    model_path = train_and_evaluate_model(\n",
    "        run, train_generator, val_generator, random_seed=random_seeds[run]\n",
    "    )\n",
    "    \n",
    "    tf.keras.backend.clear_session()"
   ]
  }
 ],
 "metadata": {
  "kernelspec": {
   "display_name": "Python 3 (ipykernel)",
   "language": "python",
   "name": "python3"
  },
  "language_info": {
   "codemirror_mode": {
    "name": "ipython",
    "version": 3
   },
   "file_extension": ".py",
   "mimetype": "text/x-python",
   "name": "python",
   "nbconvert_exporter": "python",
   "pygments_lexer": "ipython3",
   "version": "3.11.0rc1"
  }
 },
 "nbformat": 4,
 "nbformat_minor": 5
}
