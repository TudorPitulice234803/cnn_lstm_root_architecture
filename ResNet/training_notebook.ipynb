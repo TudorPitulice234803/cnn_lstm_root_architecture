{
 "cells": [
  {
   "cell_type": "code",
   "execution_count": 1,
   "id": "f778c6d1-dc7d-4b7a-a1d9-db787692e7a6",
   "metadata": {},
   "outputs": [
    {
     "name": "stderr",
     "output_type": "stream",
     "text": [
      "2025-08-18 09:48:22.425957: I tensorflow/core/util/port.cc:113] oneDNN custom operations are on. You may see slightly different numerical results due to floating-point round-off errors from different computation orders. To turn them off, set the environment variable `TF_ENABLE_ONEDNN_OPTS=0`.\n",
      "2025-08-18 09:48:22.464502: E external/local_xla/xla/stream_executor/cuda/cuda_dnn.cc:9261] Unable to register cuDNN factory: Attempting to register factory for plugin cuDNN when one has already been registered\n",
      "2025-08-18 09:48:22.464554: E external/local_xla/xla/stream_executor/cuda/cuda_fft.cc:607] Unable to register cuFFT factory: Attempting to register factory for plugin cuFFT when one has already been registered\n",
      "2025-08-18 09:48:22.465725: E external/local_xla/xla/stream_executor/cuda/cuda_blas.cc:1515] Unable to register cuBLAS factory: Attempting to register factory for plugin cuBLAS when one has already been registered\n",
      "2025-08-18 09:48:22.472020: I tensorflow/core/platform/cpu_feature_guard.cc:182] This TensorFlow binary is optimized to use available CPU instructions in performance-critical operations.\n",
      "To enable the following instructions: AVX2 AVX512F AVX512_VNNI AVX512_BF16 FMA, in other operations, rebuild TensorFlow with the appropriate compiler flags.\n"
     ]
    }
   ],
   "source": [
    "from tensorflow.keras.models import Model\n",
    "import tensorflow as tf\n",
    "from tensorflow.keras.preprocessing.image import ImageDataGenerator\n",
    "from model import resnet\n",
    "import keras.backend as K\n",
    "from helpers import f1\n",
    "import warnings\n",
    "import numpy as np\n",
    "warnings.filterwarnings(\"ignore\")"
   ]
  },
  {
   "cell_type": "code",
   "execution_count": 2,
   "id": "ab7c927b-113d-410f-b70b-f46eba804307",
   "metadata": {},
   "outputs": [
    {
     "name": "stderr",
     "output_type": "stream",
     "text": [
      "2025-08-18 09:48:24.451182: W tensorflow/core/common_runtime/gpu/gpu_bfc_allocator.cc:47] Overriding orig_value setting because the TF_FORCE_GPU_ALLOW_GROWTH environment variable is set. Original config value was 0.\n",
      "2025-08-18 09:48:24.451733: I tensorflow/core/common_runtime/gpu/gpu_device.cc:1929] Created device /job:localhost/replica:0/task:0/device:GPU:0 with 13416 MB memory:  -> device: 0, name: NVIDIA RTX 6000 Ada Generation, pci bus id: 0000:41:00.0, compute capability: 8.9\n"
     ]
    },
    {
     "name": "stdout",
     "output_type": "stream",
     "text": [
      "Model: \"model\"\n",
      "__________________________________________________________________________________________________\n",
      " Layer (type)                Output Shape                 Param #   Connected to                  \n",
      "==================================================================================================\n",
      " input_1 (InputLayer)        [(None, 256, 256, 3)]        0         []                            \n",
      "                                                                                                  \n",
      " conv2d (Conv2D)             (None, 128, 128, 64)         9472      ['input_1[0][0]']             \n",
      "                                                                                                  \n",
      " batch_normalization (Batch  (None, 128, 128, 64)         256       ['conv2d[0][0]']              \n",
      " Normalization)                                                                                   \n",
      "                                                                                                  \n",
      " re_lu (ReLU)                (None, 128, 128, 64)         0         ['batch_normalization[0][0]'] \n",
      "                                                                                                  \n",
      " conv2d_1 (Conv2D)           (None, 128, 128, 64)         36928     ['re_lu[0][0]']               \n",
      "                                                                                                  \n",
      " batch_normalization_1 (Bat  (None, 128, 128, 64)         256       ['conv2d_1[0][0]']            \n",
      " chNormalization)                                                                                 \n",
      "                                                                                                  \n",
      " re_lu_1 (ReLU)              (None, 128, 128, 64)         0         ['batch_normalization_1[0][0]'\n",
      "                                                                    ]                             \n",
      "                                                                                                  \n",
      " conv2d_2 (Conv2D)           (None, 128, 128, 64)         36928     ['re_lu_1[0][0]']             \n",
      "                                                                                                  \n",
      " batch_normalization_2 (Bat  (None, 128, 128, 64)         256       ['conv2d_2[0][0]']            \n",
      " chNormalization)                                                                                 \n",
      "                                                                                                  \n",
      " add (Add)                   (None, 128, 128, 64)         0         ['re_lu[0][0]',               \n",
      "                                                                     'batch_normalization_2[0][0]'\n",
      "                                                                    ]                             \n",
      "                                                                                                  \n",
      " re_lu_2 (ReLU)              (None, 128, 128, 64)         0         ['add[0][0]']                 \n",
      "                                                                                                  \n",
      " conv2d_4 (Conv2D)           (None, 64, 64, 128)          73856     ['re_lu_2[0][0]']             \n",
      "                                                                                                  \n",
      " batch_normalization_4 (Bat  (None, 64, 64, 128)          512       ['conv2d_4[0][0]']            \n",
      " chNormalization)                                                                                 \n",
      "                                                                                                  \n",
      " re_lu_3 (ReLU)              (None, 64, 64, 128)          0         ['batch_normalization_4[0][0]'\n",
      "                                                                    ]                             \n",
      "                                                                                                  \n",
      " conv2d_3 (Conv2D)           (None, 64, 64, 128)          8320      ['re_lu_2[0][0]']             \n",
      "                                                                                                  \n",
      " conv2d_5 (Conv2D)           (None, 64, 64, 128)          147584    ['re_lu_3[0][0]']             \n",
      "                                                                                                  \n",
      " batch_normalization_3 (Bat  (None, 64, 64, 128)          512       ['conv2d_3[0][0]']            \n",
      " chNormalization)                                                                                 \n",
      "                                                                                                  \n",
      " batch_normalization_5 (Bat  (None, 64, 64, 128)          512       ['conv2d_5[0][0]']            \n",
      " chNormalization)                                                                                 \n",
      "                                                                                                  \n",
      " add_1 (Add)                 (None, 64, 64, 128)          0         ['batch_normalization_3[0][0]'\n",
      "                                                                    , 'batch_normalization_5[0][0]\n",
      "                                                                    ']                            \n",
      "                                                                                                  \n",
      " re_lu_4 (ReLU)              (None, 64, 64, 128)          0         ['add_1[0][0]']               \n",
      "                                                                                                  \n",
      " conv2d_7 (Conv2D)           (None, 32, 32, 256)          295168    ['re_lu_4[0][0]']             \n",
      "                                                                                                  \n",
      " batch_normalization_7 (Bat  (None, 32, 32, 256)          1024      ['conv2d_7[0][0]']            \n",
      " chNormalization)                                                                                 \n",
      "                                                                                                  \n",
      " re_lu_5 (ReLU)              (None, 32, 32, 256)          0         ['batch_normalization_7[0][0]'\n",
      "                                                                    ]                             \n",
      "                                                                                                  \n",
      " conv2d_6 (Conv2D)           (None, 32, 32, 256)          33024     ['re_lu_4[0][0]']             \n",
      "                                                                                                  \n",
      " conv2d_8 (Conv2D)           (None, 32, 32, 256)          590080    ['re_lu_5[0][0]']             \n",
      "                                                                                                  \n",
      " batch_normalization_6 (Bat  (None, 32, 32, 256)          1024      ['conv2d_6[0][0]']            \n",
      " chNormalization)                                                                                 \n",
      "                                                                                                  \n",
      " batch_normalization_8 (Bat  (None, 32, 32, 256)          1024      ['conv2d_8[0][0]']            \n",
      " chNormalization)                                                                                 \n",
      "                                                                                                  \n",
      " add_2 (Add)                 (None, 32, 32, 256)          0         ['batch_normalization_6[0][0]'\n",
      "                                                                    , 'batch_normalization_8[0][0]\n",
      "                                                                    ']                            \n",
      "                                                                                                  \n",
      " re_lu_6 (ReLU)              (None, 32, 32, 256)          0         ['add_2[0][0]']               \n",
      "                                                                                                  \n",
      " conv2d_transpose (Conv2DTr  (None, 64, 64, 128)          295040    ['re_lu_6[0][0]']             \n",
      " anspose)                                                                                         \n",
      "                                                                                                  \n",
      " batch_normalization_9 (Bat  (None, 64, 64, 128)          512       ['conv2d_transpose[0][0]']    \n",
      " chNormalization)                                                                                 \n",
      "                                                                                                  \n",
      " re_lu_7 (ReLU)              (None, 64, 64, 128)          0         ['batch_normalization_9[0][0]'\n",
      "                                                                    ]                             \n",
      "                                                                                                  \n",
      " conv2d_transpose_1 (Conv2D  (None, 128, 128, 64)         73792     ['re_lu_7[0][0]']             \n",
      " Transpose)                                                                                       \n",
      "                                                                                                  \n",
      " batch_normalization_10 (Ba  (None, 128, 128, 64)         256       ['conv2d_transpose_1[0][0]']  \n",
      " tchNormalization)                                                                                \n",
      "                                                                                                  \n",
      " re_lu_8 (ReLU)              (None, 128, 128, 64)         0         ['batch_normalization_10[0][0]\n",
      "                                                                    ']                            \n",
      "                                                                                                  \n",
      " conv2d_transpose_2 (Conv2D  (None, 256, 256, 64)         36928     ['re_lu_8[0][0]']             \n",
      " Transpose)                                                                                       \n",
      "                                                                                                  \n",
      " batch_normalization_11 (Ba  (None, 256, 256, 64)         256       ['conv2d_transpose_2[0][0]']  \n",
      " tchNormalization)                                                                                \n",
      "                                                                                                  \n",
      " re_lu_9 (ReLU)              (None, 256, 256, 64)         0         ['batch_normalization_11[0][0]\n",
      "                                                                    ']                            \n",
      "                                                                                                  \n",
      " conv2d_9 (Conv2D)           (None, 256, 256, 1)          65        ['re_lu_9[0][0]']             \n",
      "                                                                                                  \n",
      "==================================================================================================\n",
      "Total params: 1643585 (6.27 MB)\n",
      "Trainable params: 1640385 (6.26 MB)\n",
      "Non-trainable params: 3200 (12.50 KB)\n",
      "__________________________________________________________________________________________________\n"
     ]
    }
   ],
   "source": [
    "model = resnet(256, 256, 3)\n",
    "\n",
    "model.compile(optimizer='adam', loss='binary_crossentropy', metrics=[f1])\n",
    "model.summary()"
   ]
  },
  {
   "cell_type": "code",
   "execution_count": 3,
   "id": "4e01e4af-b88d-44d7-a08c-f08a0845b317",
   "metadata": {},
   "outputs": [
    {
     "name": "stdout",
     "output_type": "stream",
     "text": [
      "Found 7350 images belonging to 2 classes.\n",
      "Found 7350 images belonging to 2 classes.\n"
     ]
    }
   ],
   "source": [
    "# Images generator (RGB)\n",
    "train_image_datagen = ImageDataGenerator(rescale=1./255)\n",
    "\n",
    "train_image_generator = train_image_datagen.flow_from_directory(\n",
    "    'data_v3_processed/train/images',\n",
    "    target_size=(256, 256),\n",
    "    batch_size=8,\n",
    "    class_mode=None,\n",
    "    color_mode='rgb',\n",
    "    seed=42)\n",
    "\n",
    "# Masks generator (grayscale, single channel)\n",
    "train_mask_datagen = ImageDataGenerator()\n",
    "\n",
    "train_mask_generator = train_mask_datagen.flow_from_directory(\n",
    "    'data_v3_processed/train/masks',\n",
    "    target_size=(256, 256),\n",
    "    batch_size=8,\n",
    "    class_mode=None,\n",
    "    color_mode='grayscale',\n",
    "    seed=42)"
   ]
  },
  {
   "cell_type": "code",
   "execution_count": 4,
   "id": "332eb0eb-4024-4d23-8ee0-5c30837074af",
   "metadata": {},
   "outputs": [
    {
     "name": "stdout",
     "output_type": "stream",
     "text": [
      "Found 108 images belonging to 1 classes.\n",
      "Found 108 images belonging to 1 classes.\n"
     ]
    }
   ],
   "source": [
    "val_image_datagen = ImageDataGenerator(rescale=1./255)\n",
    "\n",
    "val_image_generator = val_image_datagen.flow_from_directory(\n",
    "    'data_v3_processed/val/images',\n",
    "    target_size=(256, 256),\n",
    "    batch_size=8,\n",
    "    class_mode=None,\n",
    "    color_mode='rgb',\n",
    "    seed=42,\n",
    "    shuffle = False,)\n",
    "\n",
    "# Masks generator (grayscale, single channel)\n",
    "val_mask_datagen = ImageDataGenerator()\n",
    "\n",
    "val_mask_generator = val_mask_datagen.flow_from_directory(\n",
    "    'data_v3_processed/val/masks',\n",
    "    target_size=(256, 256),\n",
    "    batch_size=8,\n",
    "    class_mode=None,\n",
    "    color_mode='grayscale',\n",
    "    seed=42,\n",
    "    shuffle = False,)"
   ]
  },
  {
   "cell_type": "code",
   "execution_count": 5,
   "id": "99cb4398-f8b1-4f4d-9489-c7688f2b45dc",
   "metadata": {},
   "outputs": [],
   "source": [
    "def combine_generator(image_generator, mask_generator):\n",
    "    while True:\n",
    "        for img_batch, mask_batch in zip(image_generator, mask_generator):\n",
    "            yield img_batch, mask_batch\n",
    "\n",
    "train_generator = combine_generator(train_image_generator, train_mask_generator)\n",
    "val_generator = combine_generator(val_image_generator, val_mask_generator)"
   ]
  },
  {
   "cell_type": "code",
   "execution_count": 6,
   "id": "eac4d2a0-c7e0-40b0-be6f-155abeef8ba4",
   "metadata": {},
   "outputs": [
    {
     "name": "stderr",
     "output_type": "stream",
     "text": [
      "2025-08-18 09:48:27.954260: I external/local_xla/xla/stream_executor/cuda/cuda_dnn.cc:454] Loaded cuDNN version 8906\n",
      "2025-08-18 09:48:29.340083: I external/local_xla/xla/service/service.cc:168] XLA service 0x7f0fc5ff5630 initialized for platform CUDA (this does not guarantee that XLA will be used). Devices:\n",
      "2025-08-18 09:48:29.340146: I external/local_xla/xla/service/service.cc:176]   StreamExecutor device (0): NVIDIA RTX 6000 Ada Generation, Compute Capability 8.9\n",
      "2025-08-18 09:48:29.346243: I tensorflow/compiler/mlir/tensorflow/utils/dump_mlir_util.cc:269] disabling MLIR crash reproducer, set env var `MLIR_CRASH_REPRODUCER_DIRECTORY` to enable.\n",
      "WARNING: All log messages before absl::InitializeLog() is called are written to STDERR\n",
      "I0000 00:00:1755510509.479580   51232 device_compiler.h:186] Compiled cluster using XLA!  This line is logged at most once for the lifetime of the process.\n"
     ]
    },
    {
     "name": "stdout",
     "output_type": "stream",
     "text": [
      "4000/4000 [==============================] - 80s 18ms/step - loss: 0.0087 - f1: 0.6282 - val_loss: 0.0121 - val_f1: 0.7437\n"
     ]
    }
   ],
   "source": [
    "history = model.fit(train_generator,\n",
    "                    validation_data=val_generator,\n",
    "                    epochs=1,\n",
    "                    steps_per_epoch=4000,\n",
    "                    validation_steps=13)"
   ]
  },
  {
   "cell_type": "code",
   "execution_count": 8,
   "id": "ce1d8c0c-f614-4008-8f56-8ca571663c38",
   "metadata": {},
   "outputs": [],
   "source": [
    "model.save(\"resnet_model.h5\")"
   ]
  }
 ],
 "metadata": {
  "kernelspec": {
   "display_name": "Python 3 (ipykernel)",
   "language": "python",
   "name": "python3"
  },
  "language_info": {
   "codemirror_mode": {
    "name": "ipython",
    "version": 3
   },
   "file_extension": ".py",
   "mimetype": "text/x-python",
   "name": "python",
   "nbconvert_exporter": "python",
   "pygments_lexer": "ipython3",
   "version": "3.11.0rc1"
  }
 },
 "nbformat": 4,
 "nbformat_minor": 5
}
