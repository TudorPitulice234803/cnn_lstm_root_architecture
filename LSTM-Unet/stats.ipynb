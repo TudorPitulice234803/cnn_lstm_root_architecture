{
 "cells": [
  {
   "cell_type": "code",
   "execution_count": 1,
   "id": "bee279e0-2afc-4e72-b7b8-0d51ea33f545",
   "metadata": {},
   "outputs": [
    {
     "name": "stderr",
     "output_type": "stream",
     "text": [
      "2025-09-05 11:55:57.595176: I tensorflow/core/util/port.cc:113] oneDNN custom operations are on. You may see slightly different numerical results due to floating-point round-off errors from different computation orders. To turn them off, set the environment variable `TF_ENABLE_ONEDNN_OPTS=0`.\n",
      "2025-09-05 11:55:57.634140: E external/local_xla/xla/stream_executor/cuda/cuda_dnn.cc:9261] Unable to register cuDNN factory: Attempting to register factory for plugin cuDNN when one has already been registered\n",
      "2025-09-05 11:55:57.634190: E external/local_xla/xla/stream_executor/cuda/cuda_fft.cc:607] Unable to register cuFFT factory: Attempting to register factory for plugin cuFFT when one has already been registered\n",
      "2025-09-05 11:55:57.635603: E external/local_xla/xla/stream_executor/cuda/cuda_blas.cc:1515] Unable to register cuBLAS factory: Attempting to register factory for plugin cuBLAS when one has already been registered\n",
      "2025-09-05 11:55:57.642730: I tensorflow/core/platform/cpu_feature_guard.cc:182] This TensorFlow binary is optimized to use available CPU instructions in performance-critical operations.\n",
      "To enable the following instructions: AVX2 AVX512F AVX512_VNNI AVX512_BF16 FMA, in other operations, rebuild TensorFlow with the appropriate compiler flags.\n"
     ]
    },
    {
     "name": "stdout",
     "output_type": "stream",
     "text": [
      "GPU available: [PhysicalDevice(name='/physical_device:GPU:0', device_type='GPU')]\n",
      "Built with CUDA: True\n"
     ]
    }
   ],
   "source": [
    "import tensorflow as tf\n",
    "print(\"GPU available:\", tf.config.list_physical_devices('GPU'))\n",
    "print(\"Built with CUDA:\", tf.test.is_built_with_cuda())"
   ]
  },
  {
   "cell_type": "code",
   "execution_count": 1,
   "id": "e786ba59-440e-4829-b691-9ec983bb1fa2",
   "metadata": {},
   "outputs": [
    {
     "name": "stderr",
     "output_type": "stream",
     "text": [
      "2025-09-05 13:43:31.125251: I tensorflow/core/util/port.cc:113] oneDNN custom operations are on. You may see slightly different numerical results due to floating-point round-off errors from different computation orders. To turn them off, set the environment variable `TF_ENABLE_ONEDNN_OPTS=0`.\n",
      "2025-09-05 13:43:31.162143: E external/local_xla/xla/stream_executor/cuda/cuda_dnn.cc:9261] Unable to register cuDNN factory: Attempting to register factory for plugin cuDNN when one has already been registered\n",
      "2025-09-05 13:43:31.162185: E external/local_xla/xla/stream_executor/cuda/cuda_fft.cc:607] Unable to register cuFFT factory: Attempting to register factory for plugin cuFFT when one has already been registered\n",
      "2025-09-05 13:43:31.163617: E external/local_xla/xla/stream_executor/cuda/cuda_blas.cc:1515] Unable to register cuBLAS factory: Attempting to register factory for plugin cuBLAS when one has already been registered\n",
      "2025-09-05 13:43:31.171342: I tensorflow/core/platform/cpu_feature_guard.cc:182] This TensorFlow binary is optimized to use available CPU instructions in performance-critical operations.\n",
      "To enable the following instructions: AVX2 AVX512F AVX512_VNNI AVX512_BF16 FMA, in other operations, rebuild TensorFlow with the appropriate compiler flags.\n"
     ]
    },
    {
     "name": "stdout",
     "output_type": "stream",
     "text": [
      "\n",
      "Training Run 1/5 (Seed: 789)\n",
      "==================================================\n"
     ]
    },
    {
     "name": "stderr",
     "output_type": "stream",
     "text": [
      "2025-09-05 13:43:33.477585: W tensorflow/core/common_runtime/gpu/gpu_bfc_allocator.cc:47] Overriding orig_value setting because the TF_FORCE_GPU_ALLOW_GROWTH environment variable is set. Original config value was 0.\n",
      "2025-09-05 13:43:33.477935: I tensorflow/core/common_runtime/gpu/gpu_device.cc:1929] Created device /job:localhost/replica:0/task:0/device:GPU:0 with 46672 MB memory:  -> device: 0, name: NVIDIA RTX 6000 Ada Generation, pci bus id: 0000:41:00.0, compute capability: 8.9\n"
     ]
    },
    {
     "name": "stdout",
     "output_type": "stream",
     "text": [
      "Epoch 1/3\n"
     ]
    },
    {
     "name": "stderr",
     "output_type": "stream",
     "text": [
      "2025-09-05 13:43:45.454647: I external/local_xla/xla/stream_executor/cuda/cuda_dnn.cc:454] Loaded cuDNN version 8906\n",
      "2025-09-05 13:43:51.523400: I external/local_xla/xla/service/service.cc:168] XLA service 0x7fe4a7f29130 initialized for platform CUDA (this does not guarantee that XLA will be used). Devices:\n",
      "2025-09-05 13:43:51.523442: I external/local_xla/xla/service/service.cc:176]   StreamExecutor device (0): NVIDIA RTX 6000 Ada Generation, Compute Capability 8.9\n",
      "2025-09-05 13:43:51.528037: I tensorflow/compiler/mlir/tensorflow/utils/dump_mlir_util.cc:269] disabling MLIR crash reproducer, set env var `MLIR_CRASH_REPRODUCER_DIRECTORY` to enable.\n",
      "WARNING: All log messages before absl::InitializeLog() is called are written to STDERR\n",
      "I0000 00:00:1757079831.661720   26693 device_compiler.h:186] Compiled cluster using XLA!  This line is logged at most once for the lifetime of the process.\n"
     ]
    },
    {
     "name": "stdout",
     "output_type": "stream",
     "text": [
      "1000/1000 [==============================] - 454s 423ms/step - loss: 0.0730 - f1: 0.4626 - val_loss: 0.0162 - val_f1: 0.3266\n",
      "Epoch 2/3\n",
      "1000/1000 [==============================] - 420s 419ms/step - loss: 0.0049 - f1: 0.9048 - val_loss: 0.0097 - val_f1: 0.7417\n",
      "Epoch 3/3\n",
      "1000/1000 [==============================] - 421s 420ms/step - loss: 0.0027 - f1: 0.9068 - val_loss: 0.0077 - val_f1: 0.7558\n"
     ]
    },
    {
     "name": "stderr",
     "output_type": "stream",
     "text": [
      "/usr/local/lib/python3.11/dist-packages/keras/src/engine/training.py:3103: UserWarning: You are saving your model as an HDF5 file via `model.save()`. This file format is considered legacy. We recommend using instead the native Keras format, e.g. `model.save('my_model.keras')`.\n",
      "  saving_api.save_model(\n"
     ]
    },
    {
     "name": "stdout",
     "output_type": "stream",
     "text": [
      "\n",
      "Training Run 2/5 (Seed: 999)\n",
      "==================================================\n",
      "Epoch 1/3\n",
      "1000/1000 [==============================] - 440s 422ms/step - loss: 0.0549 - f1: 0.6354 - val_loss: 0.0198 - val_f1: 0.3366\n",
      "Epoch 2/3\n",
      "1000/1000 [==============================] - 422s 421ms/step - loss: 0.0032 - f1: 0.9167 - val_loss: 0.0065 - val_f1: 0.7657\n",
      "Epoch 3/3\n",
      "1000/1000 [==============================] - 420s 419ms/step - loss: 0.0020 - f1: 0.9240 - val_loss: 0.0457 - val_f1: 0.0000e+00\n"
     ]
    }
   ],
   "source": [
    "import os\n",
    "import numpy as np\n",
    "import tensorflow as tf\n",
    "from data_loader import DataGenerator\n",
    "from sklearn.metrics import f1_score, precision_score, recall_score\n",
    "import datetime\n",
    "from helpers import f1 as f1_metric\n",
    "from model import lstm_unet\n",
    "\n",
    "def set_random_seeds(seed):\n",
    "    \"\"\"Set random seeds for reproducibility.\"\"\"\n",
    "    np.random.seed(seed)\n",
    "    tf.random.set_seed(seed)\n",
    "    os.environ['PYTHONHASHSEED'] = str(seed)\n",
    "\n",
    "def create_data_generators():\n",
    "    \"\"\"Create data generators for training and validation.\"\"\"\n",
    "    train_gen = DataGenerator(\n",
    "        image_dir=\"../Unet/data_v3_processed/train/images/images\",\n",
    "        mask_dir=\"../Unet/data_v3_processed/train/masks/masks\",\n",
    "        batch_size=8,\n",
    "        time_steps=15,\n",
    "        img_size=(256,256),\n",
    "        normalize_images=True,\n",
    "        normalize_masks=False,\n",
    "        infinite=True,\n",
    "    )\n",
    "    \n",
    "    val_gen = DataGenerator(\n",
    "        image_dir=\"../Unet/data_v3_processed/val/images/images\",\n",
    "        mask_dir=\"../Unet/data_v3_processed/val/masks/masks\",\n",
    "        batch_size=8,\n",
    "        time_steps=15,\n",
    "        img_size=(256,256),\n",
    "        normalize_images=True,\n",
    "        normalize_masks=False,\n",
    "        infinite=True\n",
    "    )\n",
    "\n",
    "    return train_gen, val_gen\n",
    "\n",
    "def train_and_evaluate_model(run_number, train_generator, val_generator, \n",
    "                           epochs=3, steps_per_epoch=1000, validation_steps=5, \n",
    "                           random_seed=None):\n",
    "    \"\"\"Train a single model and return evaluation metrics.\"\"\"\n",
    "    print(f\"\\nTraining Run {run_number + 1}/5 (Seed: {random_seed})\")\n",
    "    print(\"=\" * 50)\n",
    "    \n",
    "    if random_seed is not None:\n",
    "        set_random_seeds(random_seed)\n",
    "    \n",
    "    model = lstm_unet()\n",
    "    \n",
    "    model.compile(optimizer='adam', \n",
    "                 loss='binary_crossentropy', \n",
    "                 metrics=[f1_metric])\n",
    "    \n",
    "    try:\n",
    "        history = model.fit(train_generator,\n",
    "                           validation_data=val_generator,\n",
    "                           epochs=epochs,\n",
    "                           steps_per_epoch=steps_per_epoch,\n",
    "                           validation_steps=validation_steps,\n",
    "                           verbose=1)\n",
    "        if run_number == 0:\n",
    "            model_path = os.path.join(\"models\", f\"lstm_unet_run4.h5\")\n",
    "        else:\n",
    "            model_path = os.path.join(\"models\", f\"lstm_unet_run5.h5\")\n",
    "        os.makedirs(\"models\", exist_ok=True)\n",
    "        model.save(model_path)\n",
    "        \n",
    "        return model_path\n",
    "        \n",
    "    except Exception as e:\n",
    "        print(f\"ERROR in training: {e}\")\n",
    "        return None\n",
    "\n",
    "# Main execution\n",
    "random_seeds = [789, 999]\n",
    "\n",
    "for run in range(2):\n",
    "    # CREATE FRESH GENERATORS FOR EACH RUN - this fixes the state issue\n",
    "    train_generator, val_generator = create_data_generators()\n",
    "    \n",
    "    model_path = train_and_evaluate_model(\n",
    "        run, train_generator, val_generator, random_seed=random_seeds[run]\n",
    "    )\n",
    "    \n",
    "    tf.keras.backend.clear_session()"
   ]
  }
 ],
 "metadata": {
  "kernelspec": {
   "display_name": "Python 3 (ipykernel)",
   "language": "python",
   "name": "python3"
  },
  "language_info": {
   "codemirror_mode": {
    "name": "ipython",
    "version": 3
   },
   "file_extension": ".py",
   "mimetype": "text/x-python",
   "name": "python",
   "nbconvert_exporter": "python",
   "pygments_lexer": "ipython3",
   "version": "3.11.0rc1"
  }
 },
 "nbformat": 4,
 "nbformat_minor": 5
}
