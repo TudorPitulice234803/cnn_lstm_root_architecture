{
 "cells": [
  {
   "cell_type": "code",
   "execution_count": 1,
   "id": "f778c6d1-dc7d-4b7a-a1d9-db787692e7a6",
   "metadata": {},
   "outputs": [
    {
     "name": "stderr",
     "output_type": "stream",
     "text": [
      "2025-07-24 16:05:05.120163: I tensorflow/core/util/port.cc:113] oneDNN custom operations are on. You may see slightly different numerical results due to floating-point round-off errors from different computation orders. To turn them off, set the environment variable `TF_ENABLE_ONEDNN_OPTS=0`.\n",
      "2025-07-24 16:05:05.156760: E external/local_xla/xla/stream_executor/cuda/cuda_dnn.cc:9261] Unable to register cuDNN factory: Attempting to register factory for plugin cuDNN when one has already been registered\n",
      "2025-07-24 16:05:05.156795: E external/local_xla/xla/stream_executor/cuda/cuda_fft.cc:607] Unable to register cuFFT factory: Attempting to register factory for plugin cuFFT when one has already been registered\n",
      "2025-07-24 16:05:05.158143: E external/local_xla/xla/stream_executor/cuda/cuda_blas.cc:1515] Unable to register cuBLAS factory: Attempting to register factory for plugin cuBLAS when one has already been registered\n",
      "2025-07-24 16:05:05.164716: I tensorflow/core/platform/cpu_feature_guard.cc:182] This TensorFlow binary is optimized to use available CPU instructions in performance-critical operations.\n",
      "To enable the following instructions: AVX2 AVX512F AVX512_VNNI AVX512_BF16 FMA, in other operations, rebuild TensorFlow with the appropriate compiler flags.\n"
     ]
    }
   ],
   "source": [
    "from tensorflow.keras.models import Model\n",
    "import tensorflow as tf\n",
    "from model import lstm_unet\n",
    "import keras.backend as K\n",
    "from helpers import f1\n",
    "import warnings\n",
    "import numpy as np\n",
    "import matplotlib.pyplot as plt\n",
    "from data_loader import DataGenerator\n",
    "warnings.filterwarnings(\"ignore\")\n",
    "\n",
    "gpus = tf.config.list_physical_devices('GPU')\n",
    "if gpus:\n",
    "   tf.config.set_visible_devices(gpus[0], 'GPU')\n",
    "   tf.config.experimental.set_memory_growth(gpus[0], True)"
   ]
  },
  {
   "cell_type": "code",
   "execution_count": 2,
   "id": "ab7c927b-113d-410f-b70b-f46eba804307",
   "metadata": {},
   "outputs": [
    {
     "name": "stderr",
     "output_type": "stream",
     "text": [
      "2025-07-24 16:05:07.749407: I tensorflow/core/common_runtime/gpu/gpu_device.cc:1929] Created device /job:localhost/replica:0/task:0/device:GPU:0 with 46672 MB memory:  -> device: 0, name: NVIDIA RTX 6000 Ada Generation, pci bus id: 0000:21:00.0, compute capability: 8.9\n"
     ]
    },
    {
     "name": "stdout",
     "output_type": "stream",
     "text": [
      "Model: \"model\"\n",
      "__________________________________________________________________________________________________\n",
      " Layer (type)                Output Shape                 Param #   Connected to                  \n",
      "==================================================================================================\n",
      " input_1 (InputLayer)        [(None, 15, 256, 256, 3)]    0         []                            \n",
      "                                                                                                  \n",
      " conv_lstm2d (ConvLSTM2D)    (None, 15, 256, 256, 16)     11008     ['input_1[0][0]']             \n",
      "                                                                                                  \n",
      " batch_normalization (Batch  (None, 15, 256, 256, 16)     64        ['conv_lstm2d[0][0]']         \n",
      " Normalization)                                                                                   \n",
      "                                                                                                  \n",
      " time_distributed (TimeDist  (None, 15, 128, 128, 16)     0         ['batch_normalization[0][0]'] \n",
      " ributed)                                                                                         \n",
      "                                                                                                  \n",
      " conv_lstm2d_1 (ConvLSTM2D)  (None, 15, 128, 128, 32)     55424     ['time_distributed[0][0]']    \n",
      "                                                                                                  \n",
      " batch_normalization_1 (Bat  (None, 15, 128, 128, 32)     128       ['conv_lstm2d_1[0][0]']       \n",
      " chNormalization)                                                                                 \n",
      "                                                                                                  \n",
      " time_distributed_1 (TimeDi  (None, 15, 64, 64, 32)       0         ['batch_normalization_1[0][0]'\n",
      " stributed)                                                         ]                             \n",
      "                                                                                                  \n",
      " conv_lstm2d_2 (ConvLSTM2D)  (None, 15, 64, 64, 64)       221440    ['time_distributed_1[0][0]']  \n",
      "                                                                                                  \n",
      " batch_normalization_2 (Bat  (None, 15, 64, 64, 64)       256       ['conv_lstm2d_2[0][0]']       \n",
      " chNormalization)                                                                                 \n",
      "                                                                                                  \n",
      " time_distributed_2 (TimeDi  (None, 15, 32, 32, 64)       0         ['batch_normalization_2[0][0]'\n",
      " stributed)                                                         ]                             \n",
      "                                                                                                  \n",
      " conv_lstm2d_3 (ConvLSTM2D)  (None, 15, 32, 32, 128)      885248    ['time_distributed_2[0][0]']  \n",
      "                                                                                                  \n",
      " batch_normalization_3 (Bat  (None, 15, 32, 32, 128)      512       ['conv_lstm2d_3[0][0]']       \n",
      " chNormalization)                                                                                 \n",
      "                                                                                                  \n",
      " time_distributed_3 (TimeDi  (None, 15, 16, 16, 128)      0         ['batch_normalization_3[0][0]'\n",
      " stributed)                                                         ]                             \n",
      "                                                                                                  \n",
      " conv_lstm2d_4 (ConvLSTM2D)  (None, 15, 16, 16, 256)      3539968   ['time_distributed_3[0][0]']  \n",
      "                                                                                                  \n",
      " batch_normalization_4 (Bat  (None, 15, 16, 16, 256)      1024      ['conv_lstm2d_4[0][0]']       \n",
      " chNormalization)                                                                                 \n",
      "                                                                                                  \n",
      " time_distributed_4 (TimeDi  (None, 15, 32, 32, 256)      0         ['batch_normalization_4[0][0]'\n",
      " stributed)                                                         ]                             \n",
      "                                                                                                  \n",
      " concatenate (Concatenate)   (None, 15, 32, 32, 384)      0         ['time_distributed_4[0][0]',  \n",
      "                                                                     'batch_normalization_3[0][0]'\n",
      "                                                                    ]                             \n",
      "                                                                                                  \n",
      " conv_lstm2d_5 (ConvLSTM2D)  (None, 15, 32, 32, 128)      2359808   ['concatenate[0][0]']         \n",
      "                                                                                                  \n",
      " batch_normalization_5 (Bat  (None, 15, 32, 32, 128)      512       ['conv_lstm2d_5[0][0]']       \n",
      " chNormalization)                                                                                 \n",
      "                                                                                                  \n",
      " time_distributed_5 (TimeDi  (None, 15, 64, 64, 128)      0         ['batch_normalization_5[0][0]'\n",
      " stributed)                                                         ]                             \n",
      "                                                                                                  \n",
      " concatenate_1 (Concatenate  (None, 15, 64, 64, 192)      0         ['time_distributed_5[0][0]',  \n",
      " )                                                                   'batch_normalization_2[0][0]'\n",
      "                                                                    ]                             \n",
      "                                                                                                  \n",
      " conv_lstm2d_6 (ConvLSTM2D)  (None, 15, 64, 64, 64)       590080    ['concatenate_1[0][0]']       \n",
      "                                                                                                  \n",
      " batch_normalization_6 (Bat  (None, 15, 64, 64, 64)       256       ['conv_lstm2d_6[0][0]']       \n",
      " chNormalization)                                                                                 \n",
      "                                                                                                  \n",
      " time_distributed_6 (TimeDi  (None, 15, 128, 128, 64)     0         ['batch_normalization_6[0][0]'\n",
      " stributed)                                                         ]                             \n",
      "                                                                                                  \n",
      " concatenate_2 (Concatenate  (None, 15, 128, 128, 96)     0         ['time_distributed_6[0][0]',  \n",
      " )                                                                   'batch_normalization_1[0][0]'\n",
      "                                                                    ]                             \n",
      "                                                                                                  \n",
      " conv_lstm2d_7 (ConvLSTM2D)  (None, 15, 128, 128, 32)     147584    ['concatenate_2[0][0]']       \n",
      "                                                                                                  \n",
      " batch_normalization_7 (Bat  (None, 15, 128, 128, 32)     128       ['conv_lstm2d_7[0][0]']       \n",
      " chNormalization)                                                                                 \n",
      "                                                                                                  \n",
      " time_distributed_7 (TimeDi  (None, 15, 256, 256, 32)     0         ['batch_normalization_7[0][0]'\n",
      " stributed)                                                         ]                             \n",
      "                                                                                                  \n",
      " concatenate_3 (Concatenate  (None, 15, 256, 256, 48)     0         ['time_distributed_7[0][0]',  \n",
      " )                                                                   'batch_normalization[0][0]'] \n",
      "                                                                                                  \n",
      " conv_lstm2d_8 (ConvLSTM2D)  (None, 15, 256, 256, 16)     36928     ['concatenate_3[0][0]']       \n",
      "                                                                                                  \n",
      " batch_normalization_8 (Bat  (None, 15, 256, 256, 16)     64        ['conv_lstm2d_8[0][0]']       \n",
      " chNormalization)                                                                                 \n",
      "                                                                                                  \n",
      " conv3d (Conv3D)             (None, 15, 256, 256, 1)      17        ['batch_normalization_8[0][0]'\n",
      "                                                                    ]                             \n",
      "                                                                                                  \n",
      "==================================================================================================\n",
      "Total params: 7850449 (29.95 MB)\n",
      "Trainable params: 7848977 (29.94 MB)\n",
      "Non-trainable params: 1472 (5.75 KB)\n",
      "__________________________________________________________________________________________________\n"
     ]
    }
   ],
   "source": [
    "model = lstm_unet()\n",
    "\n",
    "model.compile(optimizer='adam', loss='binary_crossentropy', metrics=[f1])\n",
    "model.summary()"
   ]
  },
  {
   "cell_type": "code",
   "execution_count": 3,
   "id": "4e01e4af-b88d-44d7-a08c-f08a0845b317",
   "metadata": {},
   "outputs": [],
   "source": [
    "train_gen = DataGenerator(\n",
    "    image_dir=\"data_v3_processed/train/images/images\",\n",
    "    mask_dir=\"data_v3_processed/train/masks/masks\",\n",
    "    batch_size=8,\n",
    "    time_steps=15,\n",
    "    img_size=(256,256),\n",
    "    normalize_images=True,\n",
    "    normalize_masks=False,\n",
    "    infinite=True,\n",
    ")"
   ]
  },
  {
   "cell_type": "code",
   "execution_count": 4,
   "id": "2d7e826f-86a9-4ec9-b739-9c96d8b669f3",
   "metadata": {},
   "outputs": [],
   "source": [
    "val_gen = DataGenerator(\n",
    "    image_dir=\"data_v3_processed/val/images/images\",\n",
    "    mask_dir=\"data_v3_processed/val/masks/masks\",\n",
    "    batch_size=8,\n",
    "    time_steps=15,\n",
    "    img_size=(256,256),\n",
    "    normalize_images=True,\n",
    "    normalize_masks=False,\n",
    ")"
   ]
  },
  {
   "cell_type": "code",
   "execution_count": 6,
   "id": "eac4d2a0-c7e0-40b0-be6f-155abeef8ba4",
   "metadata": {},
   "outputs": [
    {
     "name": "stderr",
     "output_type": "stream",
     "text": [
      "2025-07-24 16:05:22.051610: I external/local_xla/xla/stream_executor/cuda/cuda_dnn.cc:454] Loaded cuDNN version 8906\n",
      "2025-07-24 16:05:25.311110: I external/local_xla/xla/service/service.cc:168] XLA service 0x7f93c7135940 initialized for platform CUDA (this does not guarantee that XLA will be used). Devices:\n",
      "2025-07-24 16:05:25.311581: I external/local_xla/xla/service/service.cc:176]   StreamExecutor device (0): NVIDIA RTX 6000 Ada Generation, Compute Capability 8.9\n",
      "2025-07-24 16:05:25.335744: I tensorflow/compiler/mlir/tensorflow/utils/dump_mlir_util.cc:269] disabling MLIR crash reproducer, set env var `MLIR_CRASH_REPRODUCER_DIRECTORY` to enable.\n",
      "WARNING: All log messages before absl::InitializeLog() is called are written to STDERR\n",
      "I0000 00:00:1753373125.435256    2367 device_compiler.h:186] Compiled cluster using XLA!  This line is logged at most once for the lifetime of the process.\n"
     ]
    },
    {
     "name": "stdout",
     "output_type": "stream",
     "text": [
      "2000/2000 [==============================] - 1940s 959ms/step - loss: 0.0628 - f1: 0.7890 - val_loss: 0.0259 - val_f1: 0.3411\n"
     ]
    }
   ],
   "source": [
    "history = model.fit(train_gen,\n",
    "                    validation_data=val_gen,\n",
    "                    epochs=1,\n",
    "                    batch_size=8,\n",
    "                    steps_per_epoch=2000,\n",
    "                    validation_steps=13)"
   ]
  },
  {
   "cell_type": "code",
   "execution_count": 13,
   "id": "ce1d8c0c-f614-4008-8f56-8ca571663c38",
   "metadata": {},
   "outputs": [],
   "source": [
    "model.save(\"lstm_unet_model.h5\")"
   ]
  }
 ],
 "metadata": {
  "kernelspec": {
   "display_name": "Python 3 (ipykernel)",
   "language": "python",
   "name": "python3"
  },
  "language_info": {
   "codemirror_mode": {
    "name": "ipython",
    "version": 3
   },
   "file_extension": ".py",
   "mimetype": "text/x-python",
   "name": "python",
   "nbconvert_exporter": "python",
   "pygments_lexer": "ipython3",
   "version": "3.11.0rc1"
  }
 },
 "nbformat": 4,
 "nbformat_minor": 5
}
