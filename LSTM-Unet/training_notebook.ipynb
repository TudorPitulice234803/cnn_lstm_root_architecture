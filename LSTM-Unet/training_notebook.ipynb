{
 "cells": [
  {
   "cell_type": "code",
   "execution_count": 14,
   "id": "f778c6d1-dc7d-4b7a-a1d9-db787692e7a6",
   "metadata": {},
   "outputs": [],
   "source": [
    "from tensorflow.keras.models import Model\n",
    "import tensorflow as tf\n",
    "from model import lstm_unet\n",
    "import keras.backend as K\n",
    "from helpers import f1\n",
    "import warnings\n",
    "import numpy as np\n",
    "import matplotlib.pyplot as plt\n",
    "from data_loader import DataGenerator\n",
    "warnings.filterwarnings(\"ignore\")\n",
    "\n",
    "gpus = tf.config.list_physical_devices('GPU')\n",
    "if gpus:\n",
    "   tf.config.set_visible_devices(gpus[0], 'GPU')\n",
    "   tf.config.experimental.set_memory_growth(gpus[0], True)"
   ]
  },
  {
   "cell_type": "code",
   "execution_count": 15,
   "id": "ab7c927b-113d-410f-b70b-f46eba804307",
   "metadata": {},
   "outputs": [
    {
     "name": "stdout",
     "output_type": "stream",
     "text": [
      "Model: \"model_1\"\n",
      "__________________________________________________________________________________________________\n",
      " Layer (type)                Output Shape                 Param #   Connected to                  \n",
      "==================================================================================================\n",
      " input_2 (InputLayer)        [(None, 15, 256, 256, 3)]    0         []                            \n",
      "                                                                                                  \n",
      " conv_lstm2d_9 (ConvLSTM2D)  (None, 15, 256, 256, 16)     11008     ['input_2[0][0]']             \n",
      "                                                                                                  \n",
      " batch_normalization_9 (Bat  (None, 15, 256, 256, 16)     64        ['conv_lstm2d_9[0][0]']       \n",
      " chNormalization)                                                                                 \n",
      "                                                                                                  \n",
      " time_distributed_8 (TimeDi  (None, 15, 128, 128, 16)     0         ['batch_normalization_9[0][0]'\n",
      " stributed)                                                         ]                             \n",
      "                                                                                                  \n",
      " conv_lstm2d_10 (ConvLSTM2D  (None, 15, 128, 128, 32)     55424     ['time_distributed_8[0][0]']  \n",
      " )                                                                                                \n",
      "                                                                                                  \n",
      " batch_normalization_10 (Ba  (None, 15, 128, 128, 32)     128       ['conv_lstm2d_10[0][0]']      \n",
      " tchNormalization)                                                                                \n",
      "                                                                                                  \n",
      " time_distributed_9 (TimeDi  (None, 15, 64, 64, 32)       0         ['batch_normalization_10[0][0]\n",
      " stributed)                                                         ']                            \n",
      "                                                                                                  \n",
      " conv_lstm2d_11 (ConvLSTM2D  (None, 15, 64, 64, 64)       221440    ['time_distributed_9[0][0]']  \n",
      " )                                                                                                \n",
      "                                                                                                  \n",
      " batch_normalization_11 (Ba  (None, 15, 64, 64, 64)       256       ['conv_lstm2d_11[0][0]']      \n",
      " tchNormalization)                                                                                \n",
      "                                                                                                  \n",
      " time_distributed_10 (TimeD  (None, 15, 32, 32, 64)       0         ['batch_normalization_11[0][0]\n",
      " istributed)                                                        ']                            \n",
      "                                                                                                  \n",
      " conv_lstm2d_12 (ConvLSTM2D  (None, 15, 32, 32, 128)      885248    ['time_distributed_10[0][0]'] \n",
      " )                                                                                                \n",
      "                                                                                                  \n",
      " batch_normalization_12 (Ba  (None, 15, 32, 32, 128)      512       ['conv_lstm2d_12[0][0]']      \n",
      " tchNormalization)                                                                                \n",
      "                                                                                                  \n",
      " time_distributed_11 (TimeD  (None, 15, 16, 16, 128)      0         ['batch_normalization_12[0][0]\n",
      " istributed)                                                        ']                            \n",
      "                                                                                                  \n",
      " conv_lstm2d_13 (ConvLSTM2D  (None, 15, 16, 16, 256)      3539968   ['time_distributed_11[0][0]'] \n",
      " )                                                                                                \n",
      "                                                                                                  \n",
      " batch_normalization_13 (Ba  (None, 15, 16, 16, 256)      1024      ['conv_lstm2d_13[0][0]']      \n",
      " tchNormalization)                                                                                \n",
      "                                                                                                  \n",
      " time_distributed_12 (TimeD  (None, 15, 32, 32, 256)      0         ['batch_normalization_13[0][0]\n",
      " istributed)                                                        ']                            \n",
      "                                                                                                  \n",
      " concatenate_4 (Concatenate  (None, 15, 32, 32, 384)      0         ['time_distributed_12[0][0]', \n",
      " )                                                                   'batch_normalization_12[0][0]\n",
      "                                                                    ']                            \n",
      "                                                                                                  \n",
      " conv_lstm2d_14 (ConvLSTM2D  (None, 15, 32, 32, 128)      2359808   ['concatenate_4[0][0]']       \n",
      " )                                                                                                \n",
      "                                                                                                  \n",
      " batch_normalization_14 (Ba  (None, 15, 32, 32, 128)      512       ['conv_lstm2d_14[0][0]']      \n",
      " tchNormalization)                                                                                \n",
      "                                                                                                  \n",
      " time_distributed_13 (TimeD  (None, 15, 64, 64, 128)      0         ['batch_normalization_14[0][0]\n",
      " istributed)                                                        ']                            \n",
      "                                                                                                  \n",
      " concatenate_5 (Concatenate  (None, 15, 64, 64, 192)      0         ['time_distributed_13[0][0]', \n",
      " )                                                                   'batch_normalization_11[0][0]\n",
      "                                                                    ']                            \n",
      "                                                                                                  \n",
      " conv_lstm2d_15 (ConvLSTM2D  (None, 15, 64, 64, 64)       590080    ['concatenate_5[0][0]']       \n",
      " )                                                                                                \n",
      "                                                                                                  \n",
      " batch_normalization_15 (Ba  (None, 15, 64, 64, 64)       256       ['conv_lstm2d_15[0][0]']      \n",
      " tchNormalization)                                                                                \n",
      "                                                                                                  \n",
      " time_distributed_14 (TimeD  (None, 15, 128, 128, 64)     0         ['batch_normalization_15[0][0]\n",
      " istributed)                                                        ']                            \n",
      "                                                                                                  \n",
      " concatenate_6 (Concatenate  (None, 15, 128, 128, 96)     0         ['time_distributed_14[0][0]', \n",
      " )                                                                   'batch_normalization_10[0][0]\n",
      "                                                                    ']                            \n",
      "                                                                                                  \n",
      " conv_lstm2d_16 (ConvLSTM2D  (None, 15, 128, 128, 32)     147584    ['concatenate_6[0][0]']       \n",
      " )                                                                                                \n",
      "                                                                                                  \n",
      " batch_normalization_16 (Ba  (None, 15, 128, 128, 32)     128       ['conv_lstm2d_16[0][0]']      \n",
      " tchNormalization)                                                                                \n",
      "                                                                                                  \n",
      " time_distributed_15 (TimeD  (None, 15, 256, 256, 32)     0         ['batch_normalization_16[0][0]\n",
      " istributed)                                                        ']                            \n",
      "                                                                                                  \n",
      " concatenate_7 (Concatenate  (None, 15, 256, 256, 48)     0         ['time_distributed_15[0][0]', \n",
      " )                                                                   'batch_normalization_9[0][0]'\n",
      "                                                                    ]                             \n",
      "                                                                                                  \n",
      " conv_lstm2d_17 (ConvLSTM2D  (None, 15, 256, 256, 16)     36928     ['concatenate_7[0][0]']       \n",
      " )                                                                                                \n",
      "                                                                                                  \n",
      " batch_normalization_17 (Ba  (None, 15, 256, 256, 16)     64        ['conv_lstm2d_17[0][0]']      \n",
      " tchNormalization)                                                                                \n",
      "                                                                                                  \n",
      " conv3d_1 (Conv3D)           (None, 15, 256, 256, 1)      17        ['batch_normalization_17[0][0]\n",
      "                                                                    ']                            \n",
      "                                                                                                  \n",
      "==================================================================================================\n",
      "Total params: 7850449 (29.95 MB)\n",
      "Trainable params: 7848977 (29.94 MB)\n",
      "Non-trainable params: 1472 (5.75 KB)\n",
      "__________________________________________________________________________________________________\n"
     ]
    }
   ],
   "source": [
    "model = lstm_unet()\n",
    "\n",
    "model.compile(optimizer='adam', loss='binary_crossentropy', metrics=[f1])\n",
    "model.summary()"
   ]
  },
  {
   "cell_type": "code",
   "execution_count": 16,
   "id": "4e01e4af-b88d-44d7-a08c-f08a0845b317",
   "metadata": {},
   "outputs": [],
   "source": [
    "train_gen = DataGenerator(\n",
    "    image_dir=\"data_v3_processed/train/images/images\",\n",
    "    mask_dir=\"data_v3_processed/train/masks/masks\",\n",
    "    batch_size=8,\n",
    "    time_steps=15,\n",
    "    img_size=(256,256),\n",
    "    normalize_images=True,\n",
    "    normalize_masks=False,\n",
    "    infinite=True,\n",
    ")"
   ]
  },
  {
   "cell_type": "code",
   "execution_count": 17,
   "id": "2d7e826f-86a9-4ec9-b739-9c96d8b669f3",
   "metadata": {},
   "outputs": [],
   "source": [
    "val_gen = DataGenerator(\n",
    "    image_dir=\"data_v3_processed/val/images/images\",\n",
    "    mask_dir=\"data_v3_processed/val/masks/masks\",\n",
    "    batch_size=8,\n",
    "    time_steps=15,\n",
    "    img_size=(256,256),\n",
    "    normalize_images=True,\n",
    "    normalize_masks=False,\n",
    ")"
   ]
  },
  {
   "cell_type": "code",
   "execution_count": 18,
   "id": "eac4d2a0-c7e0-40b0-be6f-155abeef8ba4",
   "metadata": {},
   "outputs": [
    {
     "name": "stdout",
     "output_type": "stream",
     "text": [
      "2000/2000 [==============================] - 1930s 957ms/step - loss: 0.0601 - f1: 0.8100 - val_loss: 0.0300 - val_f1: 0.0074\n"
     ]
    }
   ],
   "source": [
    "history = model.fit(train_gen,\n",
    "                    validation_data=val_gen,\n",
    "                    epochs=1,\n",
    "                    batch_size=8,\n",
    "                    steps_per_epoch=2000,\n",
    "                    validation_steps=13)"
   ]
  },
  {
   "cell_type": "code",
   "execution_count": 19,
   "id": "ce1d8c0c-f614-4008-8f56-8ca571663c38",
   "metadata": {},
   "outputs": [],
   "source": [
    "model.save(\"lstm_unet_model.h5\")"
   ]
  }
 ],
 "metadata": {
  "kernelspec": {
   "display_name": "Python 3 (ipykernel)",
   "language": "python",
   "name": "python3"
  },
  "language_info": {
   "codemirror_mode": {
    "name": "ipython",
    "version": 3
   },
   "file_extension": ".py",
   "mimetype": "text/x-python",
   "name": "python",
   "nbconvert_exporter": "python",
   "pygments_lexer": "ipython3",
   "version": "3.11.0rc1"
  }
 },
 "nbformat": 4,
 "nbformat_minor": 5
}
