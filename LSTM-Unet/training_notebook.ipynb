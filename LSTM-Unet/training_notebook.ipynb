{
 "cells": [
  {
   "cell_type": "code",
   "execution_count": 37,
   "id": "f778c6d1-dc7d-4b7a-a1d9-db787692e7a6",
   "metadata": {},
   "outputs": [],
   "source": [
    "from tensorflow.keras.models import Model\n",
    "import tensorflow as tf\n",
    "from model import lstm_unet\n",
    "import keras.backend as K\n",
    "from helpers import f1\n",
    "import warnings\n",
    "import numpy as np\n",
    "import matplotlib.pyplot as plt\n",
    "from data_loader import DataGenerator\n",
    "warnings.filterwarnings(\"ignore\")\n",
    "\n",
    "gpus = tf.config.list_physical_devices('GPU')\n",
    "if gpus:\n",
    "   tf.config.set_visible_devices(gpus[0], 'GPU')\n",
    "   tf.config.experimental.set_memory_growth(gpus[0], True)"
   ]
  },
  {
   "cell_type": "code",
   "execution_count": 38,
   "id": "ab7c927b-113d-410f-b70b-f46eba804307",
   "metadata": {},
   "outputs": [
    {
     "name": "stdout",
     "output_type": "stream",
     "text": [
      "Model: \"model_5\"\n",
      "__________________________________________________________________________________________________\n",
      " Layer (type)                Output Shape                 Param #   Connected to                  \n",
      "==================================================================================================\n",
      " input_6 (InputLayer)        [(None, 15, 256, 256, 3)]    0         []                            \n",
      "                                                                                                  \n",
      " conv_lstm2d_45 (ConvLSTM2D  (None, 15, 256, 256, 16)     11008     ['input_6[0][0]']             \n",
      " )                                                                                                \n",
      "                                                                                                  \n",
      " batch_normalization_45 (Ba  (None, 15, 256, 256, 16)     64        ['conv_lstm2d_45[0][0]']      \n",
      " tchNormalization)                                                                                \n",
      "                                                                                                  \n",
      " time_distributed_40 (TimeD  (None, 15, 128, 128, 16)     0         ['batch_normalization_45[0][0]\n",
      " istributed)                                                        ']                            \n",
      "                                                                                                  \n",
      " conv_lstm2d_46 (ConvLSTM2D  (None, 15, 128, 128, 32)     55424     ['time_distributed_40[0][0]'] \n",
      " )                                                                                                \n",
      "                                                                                                  \n",
      " batch_normalization_46 (Ba  (None, 15, 128, 128, 32)     128       ['conv_lstm2d_46[0][0]']      \n",
      " tchNormalization)                                                                                \n",
      "                                                                                                  \n",
      " time_distributed_41 (TimeD  (None, 15, 64, 64, 32)       0         ['batch_normalization_46[0][0]\n",
      " istributed)                                                        ']                            \n",
      "                                                                                                  \n",
      " conv_lstm2d_47 (ConvLSTM2D  (None, 15, 64, 64, 64)       221440    ['time_distributed_41[0][0]'] \n",
      " )                                                                                                \n",
      "                                                                                                  \n",
      " batch_normalization_47 (Ba  (None, 15, 64, 64, 64)       256       ['conv_lstm2d_47[0][0]']      \n",
      " tchNormalization)                                                                                \n",
      "                                                                                                  \n",
      " time_distributed_42 (TimeD  (None, 15, 32, 32, 64)       0         ['batch_normalization_47[0][0]\n",
      " istributed)                                                        ']                            \n",
      "                                                                                                  \n",
      " conv_lstm2d_48 (ConvLSTM2D  (None, 15, 32, 32, 128)      885248    ['time_distributed_42[0][0]'] \n",
      " )                                                                                                \n",
      "                                                                                                  \n",
      " batch_normalization_48 (Ba  (None, 15, 32, 32, 128)      512       ['conv_lstm2d_48[0][0]']      \n",
      " tchNormalization)                                                                                \n",
      "                                                                                                  \n",
      " time_distributed_43 (TimeD  (None, 15, 16, 16, 128)      0         ['batch_normalization_48[0][0]\n",
      " istributed)                                                        ']                            \n",
      "                                                                                                  \n",
      " conv_lstm2d_49 (ConvLSTM2D  (None, 15, 16, 16, 256)      3539968   ['time_distributed_43[0][0]'] \n",
      " )                                                                                                \n",
      "                                                                                                  \n",
      " batch_normalization_49 (Ba  (None, 15, 16, 16, 256)      1024      ['conv_lstm2d_49[0][0]']      \n",
      " tchNormalization)                                                                                \n",
      "                                                                                                  \n",
      " time_distributed_44 (TimeD  (None, 15, 32, 32, 256)      0         ['batch_normalization_49[0][0]\n",
      " istributed)                                                        ']                            \n",
      "                                                                                                  \n",
      " concatenate_20 (Concatenat  (None, 15, 32, 32, 384)      0         ['time_distributed_44[0][0]', \n",
      " e)                                                                  'batch_normalization_48[0][0]\n",
      "                                                                    ']                            \n",
      "                                                                                                  \n",
      " conv_lstm2d_50 (ConvLSTM2D  (None, 15, 32, 32, 128)      2359808   ['concatenate_20[0][0]']      \n",
      " )                                                                                                \n",
      "                                                                                                  \n",
      " batch_normalization_50 (Ba  (None, 15, 32, 32, 128)      512       ['conv_lstm2d_50[0][0]']      \n",
      " tchNormalization)                                                                                \n",
      "                                                                                                  \n",
      " time_distributed_45 (TimeD  (None, 15, 64, 64, 128)      0         ['batch_normalization_50[0][0]\n",
      " istributed)                                                        ']                            \n",
      "                                                                                                  \n",
      " concatenate_21 (Concatenat  (None, 15, 64, 64, 192)      0         ['time_distributed_45[0][0]', \n",
      " e)                                                                  'batch_normalization_47[0][0]\n",
      "                                                                    ']                            \n",
      "                                                                                                  \n",
      " conv_lstm2d_51 (ConvLSTM2D  (None, 15, 64, 64, 64)       590080    ['concatenate_21[0][0]']      \n",
      " )                                                                                                \n",
      "                                                                                                  \n",
      " batch_normalization_51 (Ba  (None, 15, 64, 64, 64)       256       ['conv_lstm2d_51[0][0]']      \n",
      " tchNormalization)                                                                                \n",
      "                                                                                                  \n",
      " time_distributed_46 (TimeD  (None, 15, 128, 128, 64)     0         ['batch_normalization_51[0][0]\n",
      " istributed)                                                        ']                            \n",
      "                                                                                                  \n",
      " concatenate_22 (Concatenat  (None, 15, 128, 128, 96)     0         ['time_distributed_46[0][0]', \n",
      " e)                                                                  'batch_normalization_46[0][0]\n",
      "                                                                    ']                            \n",
      "                                                                                                  \n",
      " conv_lstm2d_52 (ConvLSTM2D  (None, 15, 128, 128, 32)     147584    ['concatenate_22[0][0]']      \n",
      " )                                                                                                \n",
      "                                                                                                  \n",
      " batch_normalization_52 (Ba  (None, 15, 128, 128, 32)     128       ['conv_lstm2d_52[0][0]']      \n",
      " tchNormalization)                                                                                \n",
      "                                                                                                  \n",
      " time_distributed_47 (TimeD  (None, 15, 256, 256, 32)     0         ['batch_normalization_52[0][0]\n",
      " istributed)                                                        ']                            \n",
      "                                                                                                  \n",
      " concatenate_23 (Concatenat  (None, 15, 256, 256, 48)     0         ['time_distributed_47[0][0]', \n",
      " e)                                                                  'batch_normalization_45[0][0]\n",
      "                                                                    ']                            \n",
      "                                                                                                  \n",
      " conv_lstm2d_53 (ConvLSTM2D  (None, 15, 256, 256, 16)     36928     ['concatenate_23[0][0]']      \n",
      " )                                                                                                \n",
      "                                                                                                  \n",
      " batch_normalization_53 (Ba  (None, 15, 256, 256, 16)     64        ['conv_lstm2d_53[0][0]']      \n",
      " tchNormalization)                                                                                \n",
      "                                                                                                  \n",
      " conv3d_5 (Conv3D)           (None, 15, 256, 256, 1)      17        ['batch_normalization_53[0][0]\n",
      "                                                                    ']                            \n",
      "                                                                                                  \n",
      "==================================================================================================\n",
      "Total params: 7850449 (29.95 MB)\n",
      "Trainable params: 7848977 (29.94 MB)\n",
      "Non-trainable params: 1472 (5.75 KB)\n",
      "__________________________________________________________________________________________________\n"
     ]
    }
   ],
   "source": [
    "model = lstm_unet()\n",
    "\n",
    "model.compile(optimizer='adam', loss='binary_crossentropy', metrics=[f1])\n",
    "model.summary()"
   ]
  },
  {
   "cell_type": "code",
   "execution_count": 39,
   "id": "4e01e4af-b88d-44d7-a08c-f08a0845b317",
   "metadata": {},
   "outputs": [],
   "source": [
    "train_gen = DataGenerator(\n",
    "    image_dir=\"data_v3_processed/train/images/images\",\n",
    "    mask_dir=\"data_v3_processed/train/masks/masks\",\n",
    "    batch_size=8,\n",
    "    time_steps=15,\n",
    "    img_size=(256,256),\n",
    "    normalize_images=True,\n",
    "    normalize_masks=False,\n",
    "    infinite=True,\n",
    ")"
   ]
  },
  {
   "cell_type": "code",
   "execution_count": 40,
   "id": "2d7e826f-86a9-4ec9-b739-9c96d8b669f3",
   "metadata": {},
   "outputs": [],
   "source": [
    "val_gen = DataGenerator(\n",
    "    image_dir=\"data_v3_processed/val/images/images\",\n",
    "    mask_dir=\"data_v3_processed/val/masks/masks\",\n",
    "    batch_size=8,\n",
    "    time_steps=15,\n",
    "    img_size=(256,256),\n",
    "    normalize_images=True,\n",
    "    normalize_masks=False,\n",
    ")"
   ]
  },
  {
   "cell_type": "code",
   "execution_count": 41,
   "id": "eac4d2a0-c7e0-40b0-be6f-155abeef8ba4",
   "metadata": {},
   "outputs": [
    {
     "name": "stdout",
     "output_type": "stream",
     "text": [
      "3000/3000 [==============================] - 2873s 952ms/step - loss: 0.0405 - f1: 0.8294 - val_loss: 0.0437 - val_f1: 0.0740\n"
     ]
    }
   ],
   "source": [
    "history = model.fit(train_gen,\n",
    "                    validation_data=val_gen,\n",
    "                    epochs=1,\n",
    "                    batch_size=8,\n",
    "                    steps_per_epoch=3000,\n",
    "                    validation_steps=13)"
   ]
  },
  {
   "cell_type": "code",
   "execution_count": 42,
   "id": "ce1d8c0c-f614-4008-8f56-8ca571663c38",
   "metadata": {},
   "outputs": [],
   "source": [
    "model.save(\"lstm_unet_model.h5\")"
   ]
  }
 ],
 "metadata": {
  "kernelspec": {
   "display_name": "Python 3 (ipykernel)",
   "language": "python",
   "name": "python3"
  },
  "language_info": {
   "codemirror_mode": {
    "name": "ipython",
    "version": 3
   },
   "file_extension": ".py",
   "mimetype": "text/x-python",
   "name": "python",
   "nbconvert_exporter": "python",
   "pygments_lexer": "ipython3",
   "version": "3.11.0rc1"
  }
 },
 "nbformat": 4,
 "nbformat_minor": 5
}
