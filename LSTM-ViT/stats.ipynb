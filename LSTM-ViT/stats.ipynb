{
 "cells": [
  {
   "cell_type": "code",
   "execution_count": 1,
   "id": "a26edf4b-8133-41f4-acf7-065d596a48f9",
   "metadata": {},
   "outputs": [
    {
     "name": "stderr",
     "output_type": "stream",
     "text": [
      "2025-09-05 11:56:16.006872: I tensorflow/core/util/port.cc:113] oneDNN custom operations are on. You may see slightly different numerical results due to floating-point round-off errors from different computation orders. To turn them off, set the environment variable `TF_ENABLE_ONEDNN_OPTS=0`.\n",
      "2025-09-05 11:56:16.043560: E external/local_xla/xla/stream_executor/cuda/cuda_dnn.cc:9261] Unable to register cuDNN factory: Attempting to register factory for plugin cuDNN when one has already been registered\n",
      "2025-09-05 11:56:16.043602: E external/local_xla/xla/stream_executor/cuda/cuda_fft.cc:607] Unable to register cuFFT factory: Attempting to register factory for plugin cuFFT when one has already been registered\n",
      "2025-09-05 11:56:16.044967: E external/local_xla/xla/stream_executor/cuda/cuda_blas.cc:1515] Unable to register cuBLAS factory: Attempting to register factory for plugin cuBLAS when one has already been registered\n",
      "2025-09-05 11:56:16.052009: I tensorflow/core/platform/cpu_feature_guard.cc:182] This TensorFlow binary is optimized to use available CPU instructions in performance-critical operations.\n",
      "To enable the following instructions: AVX2 AVX512F AVX512_VNNI AVX512_BF16 FMA, in other operations, rebuild TensorFlow with the appropriate compiler flags.\n"
     ]
    },
    {
     "name": "stdout",
     "output_type": "stream",
     "text": [
      "GPU available: [PhysicalDevice(name='/physical_device:GPU:0', device_type='GPU')]\n",
      "Built with CUDA: True\n"
     ]
    }
   ],
   "source": [
    "import tensorflow as tf\n",
    "print(\"GPU available:\", tf.config.list_physical_devices('GPU'))\n",
    "print(\"Built with CUDA:\", tf.test.is_built_with_cuda())"
   ]
  },
  {
   "cell_type": "code",
   "execution_count": 2,
   "id": "e786ba59-440e-4829-b691-9ec983bb1fa2",
   "metadata": {},
   "outputs": [
    {
     "name": "stdout",
     "output_type": "stream",
     "text": [
      "\n",
      "Training Run 1/5 (Seed: 123)\n",
      "==================================================\n"
     ]
    },
    {
     "name": "stderr",
     "output_type": "stream",
     "text": [
      "2025-09-05 11:56:22.913028: W tensorflow/core/common_runtime/gpu/gpu_bfc_allocator.cc:47] Overriding orig_value setting because the TF_FORCE_GPU_ALLOW_GROWTH environment variable is set. Original config value was 0.\n",
      "2025-09-05 11:56:22.913389: I tensorflow/core/common_runtime/gpu/gpu_device.cc:1929] Created device /job:localhost/replica:0/task:0/device:GPU:0 with 46672 MB memory:  -> device: 0, name: NVIDIA RTX 6000 Ada Generation, pci bus id: 0000:21:00.0, compute capability: 8.9\n"
     ]
    },
    {
     "name": "stdout",
     "output_type": "stream",
     "text": [
      "Building sequence list and filtering empty sequences...\n",
      "Total valid sequences: 220\n",
      "Skipped empty sequences: 270\n",
      "Epoch 1/7\n"
     ]
    },
    {
     "name": "stderr",
     "output_type": "stream",
     "text": [
      "2025-09-05 11:56:35.543967: E tensorflow/core/grappler/optimizers/meta_optimizer.cc:961] layout failed: INVALID_ARGUMENT: Size of values 0 does not match size of permutation 4 @ fanin shape inLSTM_ViT_ConvLSTM/bidirectional/forward_conv_lstm2d/while/body/_1/LSTM_ViT_ConvLSTM/bidirectional/forward_conv_lstm2d/while/dropout_7/SelectV2-2-TransposeNHWCToNCHW-LayoutOptimizer\n",
      "2025-09-05 11:56:36.776210: I external/local_xla/xla/stream_executor/cuda/cuda_dnn.cc:454] Loaded cuDNN version 8906\n",
      "2025-09-05 11:56:40.675379: I external/local_xla/xla/service/service.cc:168] XLA service 0x7efc044aa9f0 initialized for platform CUDA (this does not guarantee that XLA will be used). Devices:\n",
      "2025-09-05 11:56:40.675417: I external/local_xla/xla/service/service.cc:176]   StreamExecutor device (0): NVIDIA RTX 6000 Ada Generation, Compute Capability 8.9\n",
      "2025-09-05 11:56:40.681017: I tensorflow/compiler/mlir/tensorflow/utils/dump_mlir_util.cc:269] disabling MLIR crash reproducer, set env var `MLIR_CRASH_REPRODUCER_DIRECTORY` to enable.\n",
      "WARNING: All log messages before absl::InitializeLog() is called are written to STDERR\n",
      "I0000 00:00:1757073400.801395     844 device_compiler.h:186] Compiled cluster using XLA!  This line is logged at most once for the lifetime of the process.\n"
     ]
    },
    {
     "name": "stdout",
     "output_type": "stream",
     "text": [
      "1500/1500 [==============================] - ETA: 0s - loss: 0.0275 - f1: 7.0573e-06Building sequence list and filtering empty sequences...\n",
      "Total valid sequences: 5\n",
      "Skipped empty sequences: 0\n",
      "1500/1500 [==============================] - 786s 506ms/step - loss: 0.0275 - f1: 7.0573e-06 - val_loss: 0.0274 - val_f1: 0.0000e+00\n",
      "Epoch 2/7\n",
      "1500/1500 [==============================] - 749s 500ms/step - loss: 0.0056 - f1: 0.6384 - val_loss: 0.0097 - val_f1: 0.8036\n",
      "Epoch 3/7\n",
      "1500/1500 [==============================] - 748s 499ms/step - loss: 0.0029 - f1: 0.8431 - val_loss: 0.0123 - val_f1: 0.7199\n",
      "Epoch 4/7\n",
      "1500/1500 [==============================] - 747s 498ms/step - loss: 0.0024 - f1: 0.8659 - val_loss: 0.0097 - val_f1: 0.8273\n",
      "Epoch 5/7\n",
      "1500/1500 [==============================] - 746s 497ms/step - loss: 0.0021 - f1: 0.8826 - val_loss: 0.0114 - val_f1: 0.8229\n",
      "Epoch 6/7\n",
      "1500/1500 [==============================] - 746s 497ms/step - loss: 0.0020 - f1: 0.8878 - val_loss: 0.0123 - val_f1: 0.8232\n",
      "Epoch 7/7\n",
      "1500/1500 [==============================] - 745s 497ms/step - loss: 0.0018 - f1: 0.8959 - val_loss: 0.0120 - val_f1: 0.8355\n"
     ]
    },
    {
     "name": "stderr",
     "output_type": "stream",
     "text": [
      "/usr/local/lib/python3.11/dist-packages/keras/src/engine/training.py:3103: UserWarning: You are saving your model as an HDF5 file via `model.save()`. This file format is considered legacy. We recommend using instead the native Keras format, e.g. `model.save('my_model.keras')`.\n",
      "  saving_api.save_model(\n"
     ]
    }
   ],
   "source": [
    "import os\n",
    "import numpy as np\n",
    "import tensorflow as tf\n",
    "from data_loader import data_generator\n",
    "from sklearn.metrics import f1_score, precision_score, recall_score\n",
    "import datetime\n",
    "from helpers import f1 as f1_metric\n",
    "from model import lstm_vit\n",
    "\n",
    "def set_random_seeds(seed):\n",
    "    \"\"\"Set random seeds for reproducibility.\"\"\"\n",
    "    np.random.seed(seed)\n",
    "    tf.random.set_seed(seed)\n",
    "    os.environ['PYTHONHASHSEED'] = str(seed)\n",
    "\n",
    "def create_data_generators():\n",
    "    \"\"\"Create data generators for training and validation.\"\"\"\n",
    "    train_generator = data_generator(\n",
    "        image_dir='data_v3_processed/train/images/images',\n",
    "        mask_dir='data_v3_processed/train/masks/masks',\n",
    "        batch_size=8\n",
    "    )\n",
    "    \n",
    "    val_generator = data_generator(\n",
    "        image_dir='data_v3_processed/val/images/images',\n",
    "        mask_dir='data_v3_processed/val/masks/masks',\n",
    "        batch_size=8,\n",
    "        train=False,\n",
    "        sequence_length=10\n",
    "    )\n",
    "\n",
    "    return train_generator, val_generator\n",
    "\n",
    "def train_and_evaluate_model(run_number, train_generator, val_generator, \n",
    "                           epochs=7, steps_per_epoch=1500, validation_steps=5, \n",
    "                           random_seed=None):\n",
    "    \"\"\"Train a single model and return evaluation metrics.\"\"\"\n",
    "    print(f\"\\nTraining Run {run_number + 1}/5 (Seed: {random_seed})\")\n",
    "    print(\"=\" * 50)\n",
    "    \n",
    "    if random_seed is not None:\n",
    "        set_random_seeds(random_seed)\n",
    "    \n",
    "    model = lstm_vit()\n",
    "    \n",
    "    model.compile(optimizer='adam', \n",
    "                 loss='binary_crossentropy', \n",
    "                 metrics=[f1_metric])\n",
    "    \n",
    "    try:\n",
    "        history = model.fit(train_generator,\n",
    "                           validation_data=val_generator,\n",
    "                           epochs=epochs,\n",
    "                           steps_per_epoch=steps_per_epoch,\n",
    "                           validation_steps=validation_steps,\n",
    "                           verbose=1)\n",
    "\n",
    "        model_path = os.path.join(\"models\", f\"lstm_vit_run2.h5\")\n",
    "        os.makedirs(\"models\", exist_ok=True)\n",
    "        model.save(model_path)\n",
    "        \n",
    "        return model_path\n",
    "        \n",
    "    except Exception as e:\n",
    "        print(f\"ERROR in training: {e}\")\n",
    "        return None\n",
    "\n",
    "# Main execution\n",
    "random_seeds = [123]\n",
    "\n",
    "for run in range(1):\n",
    "    # CREATE FRESH GENERATORS FOR EACH RUN\n",
    "    train_generator, val_generator = create_data_generators()\n",
    "    \n",
    "    path = train_and_evaluate_model(\n",
    "        run, train_generator, val_generator, random_seed=random_seeds[run]\n",
    "    )\n",
    "    tf.keras.backend.clear_session()"
   ]
  }
 ],
 "metadata": {
  "kernelspec": {
   "display_name": "Python 3 (ipykernel)",
   "language": "python",
   "name": "python3"
  },
  "language_info": {
   "codemirror_mode": {
    "name": "ipython",
    "version": 3
   },
   "file_extension": ".py",
   "mimetype": "text/x-python",
   "name": "python",
   "nbconvert_exporter": "python",
   "pygments_lexer": "ipython3",
   "version": "3.11.0rc1"
  }
 },
 "nbformat": 4,
 "nbformat_minor": 5
}
