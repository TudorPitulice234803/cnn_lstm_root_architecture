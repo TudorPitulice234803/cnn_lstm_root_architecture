{
 "cells": [
  {
   "cell_type": "code",
   "execution_count": 5,
   "id": "f778c6d1-dc7d-4b7a-a1d9-db787692e7a6",
   "metadata": {},
   "outputs": [
    {
     "name": "stdout",
     "output_type": "stream",
     "text": [
      "GPU Details:\n",
      "  PhysicalDevice(name='/physical_device:GPU:0', device_type='GPU')\n",
      "  Device details: {'compute_capability': (8, 9), 'device_name': 'NVIDIA RTX 6000 Ada Generation'}\n"
     ]
    }
   ],
   "source": [
    "from tensorflow.keras.models import Model\n",
    "import tensorflow as tf\n",
    "from model import lstm_vit\n",
    "from helpers import f1\n",
    "import warnings\n",
    "import numpy as np\n",
    "import matplotlib.pyplot as plt\n",
    "from data_loader import data_generator\n",
    "warnings.filterwarnings(\"ignore\")\n",
    "\n",
    "if tf.config.list_physical_devices('GPU'):\n",
    "    print(\"GPU Details:\")\n",
    "    for gpu in tf.config.list_physical_devices('GPU'):\n",
    "        print(f\"  {gpu}\")\n",
    "        details = tf.config.experimental.get_device_details(gpu)\n",
    "        print(f\"  Device details: {details}\")\n",
    "else:\n",
    "    print(\"No GPU found!\")"
   ]
  },
  {
   "cell_type": "code",
   "execution_count": 6,
   "id": "ab7c927b-113d-410f-b70b-f46eba804307",
   "metadata": {},
   "outputs": [
    {
     "name": "stdout",
     "output_type": "stream",
     "text": [
      "Model: \"LSTM_ViT_ConvLSTM\"\n",
      "_________________________________________________________________\n",
      " Layer (type)                Output Shape              Param #   \n",
      "=================================================================\n",
      " input_3 (InputLayer)        [(None, 15, 256, 256, 1   0         \n",
      "                             )]                                  \n",
      "                                                                 \n",
      " temporal_encoding (TimeDis  (None, 15, 32, 32, 128)   490112    \n",
      " tributed)                                                       \n",
      "                                                                 \n",
      " bidirectional_1 (Bidirecti  (None, 15, 32, 32, 128)   885248    \n",
      " onal)                                                           \n",
      "                                                                 \n",
      " feature_projection (TimeDi  (None, 15, 32, 32, 128)   16512     \n",
      " stributed)                                                      \n",
      "                                                                 \n",
      " time_distributed_4 (TimeDi  (None, 15, 64, 64, 128)   147584    \n",
      " stributed)                                                      \n",
      "                                                                 \n",
      " time_distributed_5 (TimeDi  (None, 15, 128, 128, 64   73792     \n",
      " stributed)                  )                                   \n",
      "                                                                 \n",
      " time_distributed_6 (TimeDi  (None, 15, 256, 256, 32   18464     \n",
      " stributed)                  )                                   \n",
      "                                                                 \n",
      " time_distributed_7 (TimeDi  (None, 15, 256, 256, 1)   33        \n",
      " stributed)                                                      \n",
      "                                                                 \n",
      "=================================================================\n",
      "Total params: 1631745 (6.22 MB)\n",
      "Trainable params: 1631745 (6.22 MB)\n",
      "Non-trainable params: 0 (0.00 Byte)\n",
      "_________________________________________________________________\n"
     ]
    }
   ],
   "source": [
    "model = lstm_vit()\n",
    "\n",
    "model.compile(optimizer='adam', loss='binary_crossentropy', metrics=[f1])\n",
    "model.summary()"
   ]
  },
  {
   "cell_type": "code",
   "execution_count": 12,
   "id": "394f5acd-f6b0-46df-80e9-474d004e9906",
   "metadata": {},
   "outputs": [],
   "source": [
    "train_img_path = 'data_v3_processed/train/images/images'\n",
    "train_masks_path = 'data_v3_processed/train/masks/masks'\n",
    "\n",
    "val_img_path = 'data_v3_processed/val/images/images'\n",
    "val_masks_path = 'data_v3_processed/val/masks/masks'\n",
    "\n",
    "train_gen = data_generator(train_img_path, train_masks_path, 8)\n",
    "val_gen = data_generator(val_img_path, val_masks_path, 8, train=False, sequence_length=13)"
   ]
  },
  {
   "cell_type": "code",
   "execution_count": 13,
   "id": "eac4d2a0-c7e0-40b0-be6f-155abeef8ba4",
   "metadata": {},
   "outputs": [
    {
     "name": "stdout",
     "output_type": "stream",
     "text": [
      "Building sequence list and filtering empty sequences...\n",
      "Total valid sequences: 220\n",
      "Skipped empty sequences: 270\n",
      "Reverse time order: False\n",
      "12/12 [==============================] - ETA: 0s - loss: 0.0017 - f1: 0.8995Building sequence list and filtering empty sequences...\n",
      "Total valid sequences: 2\n",
      "Skipped empty sequences: 0\n",
      "Reverse time order: False\n",
      "12/12 [==============================] - 8s 686ms/step - loss: 0.0017 - f1: 0.8995 - val_loss: 0.0108 - val_f1: 0.8189\n"
     ]
    }
   ],
   "source": [
    "history = model.fit(train_gen,\n",
    "                    validation_data=val_gen,\n",
    "                    epochs=1,\n",
    "                    batch_size=8,\n",
    "                    steps_per_epoch=12000,\n",
    "                    validation_steps=13)"
   ]
  },
  {
   "cell_type": "code",
   "execution_count": 14,
   "id": "ce1d8c0c-f614-4008-8f56-8ca571663c38",
   "metadata": {},
   "outputs": [],
   "source": [
    "model.save(\"lstm_vit_model.h5\")"
   ]
  }
 ],
 "metadata": {
  "kernelspec": {
   "display_name": "Python 3 (ipykernel)",
   "language": "python",
   "name": "python3"
  },
  "language_info": {
   "codemirror_mode": {
    "name": "ipython",
    "version": 3
   },
   "file_extension": ".py",
   "mimetype": "text/x-python",
   "name": "python",
   "nbconvert_exporter": "python",
   "pygments_lexer": "ipython3",
   "version": "3.11.0rc1"
  }
 },
 "nbformat": 4,
 "nbformat_minor": 5
}
