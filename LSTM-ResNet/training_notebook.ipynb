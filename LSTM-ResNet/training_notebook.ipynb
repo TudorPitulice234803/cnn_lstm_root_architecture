{
 "cells": [
  {
   "cell_type": "code",
   "execution_count": 1,
   "id": "f778c6d1-dc7d-4b7a-a1d9-db787692e7a6",
   "metadata": {},
   "outputs": [
    {
     "name": "stderr",
     "output_type": "stream",
     "text": [
      "2025-07-26 17:44:18.173275: I tensorflow/core/util/port.cc:113] oneDNN custom operations are on. You may see slightly different numerical results due to floating-point round-off errors from different computation orders. To turn them off, set the environment variable `TF_ENABLE_ONEDNN_OPTS=0`.\n",
      "2025-07-26 17:44:18.211555: E external/local_xla/xla/stream_executor/cuda/cuda_dnn.cc:9261] Unable to register cuDNN factory: Attempting to register factory for plugin cuDNN when one has already been registered\n",
      "2025-07-26 17:44:18.211595: E external/local_xla/xla/stream_executor/cuda/cuda_fft.cc:607] Unable to register cuFFT factory: Attempting to register factory for plugin cuFFT when one has already been registered\n",
      "2025-07-26 17:44:18.212741: E external/local_xla/xla/stream_executor/cuda/cuda_blas.cc:1515] Unable to register cuBLAS factory: Attempting to register factory for plugin cuBLAS when one has already been registered\n",
      "2025-07-26 17:44:18.218982: I tensorflow/core/platform/cpu_feature_guard.cc:182] This TensorFlow binary is optimized to use available CPU instructions in performance-critical operations.\n",
      "To enable the following instructions: AVX2 AVX512F AVX512_VNNI AVX512_BF16 FMA, in other operations, rebuild TensorFlow with the appropriate compiler flags.\n"
     ]
    }
   ],
   "source": [
    "from tensorflow.keras.models import Model\n",
    "import tensorflow as tf\n",
    "from model import lstm_resnet\n",
    "import keras.backend as K\n",
    "from helpers import f1\n",
    "import warnings\n",
    "import numpy as np\n",
    "import matplotlib.pyplot as plt\n",
    "from data_loader import DataGenerator\n",
    "warnings.filterwarnings(\"ignore\")\n",
    "\n",
    "gpus = tf.config.list_physical_devices('GPU')\n",
    "if gpus:\n",
    "   tf.config.set_visible_devices(gpus[0], 'GPU')\n",
    "   tf.config.experimental.set_memory_growth(gpus[0], True)"
   ]
  },
  {
   "cell_type": "code",
   "execution_count": 2,
   "id": "ab7c927b-113d-410f-b70b-f46eba804307",
   "metadata": {},
   "outputs": [
    {
     "name": "stderr",
     "output_type": "stream",
     "text": [
      "2025-07-26 17:44:20.371200: I tensorflow/core/common_runtime/gpu/gpu_device.cc:1929] Created device /job:localhost/replica:0/task:0/device:GPU:0 with 38435 MB memory:  -> device: 0, name: NVIDIA RTX 6000 Ada Generation, pci bus id: 0000:01:00.0, compute capability: 8.9\n"
     ]
    },
    {
     "name": "stdout",
     "output_type": "stream",
     "text": [
      "Model: \"model\"\n",
      "__________________________________________________________________________________________________\n",
      " Layer (type)                Output Shape                 Param #   Connected to                  \n",
      "==================================================================================================\n",
      " input_1 (InputLayer)        [(None, 15, 256, 256, 3)]    0         []                            \n",
      "                                                                                                  \n",
      " time_distributed (TimeDist  (None, 15, 128, 128, 64)     9472      ['input_1[0][0]']             \n",
      " ributed)                                                                                         \n",
      "                                                                                                  \n",
      " time_distributed_1 (TimeDi  (None, 15, 128, 128, 64)     256       ['time_distributed[0][0]']    \n",
      " stributed)                                                                                       \n",
      "                                                                                                  \n",
      " time_distributed_2 (TimeDi  (None, 15, 128, 128, 64)     0         ['time_distributed_1[0][0]']  \n",
      " stributed)                                                                                       \n",
      "                                                                                                  \n",
      " time_distributed_3 (TimeDi  (None, 15, 128, 128, 64)     36928     ['time_distributed_2[0][0]']  \n",
      " stributed)                                                                                       \n",
      "                                                                                                  \n",
      " time_distributed_4 (TimeDi  (None, 15, 128, 128, 64)     256       ['time_distributed_3[0][0]']  \n",
      " stributed)                                                                                       \n",
      "                                                                                                  \n",
      " time_distributed_5 (TimeDi  (None, 15, 128, 128, 64)     0         ['time_distributed_4[0][0]']  \n",
      " stributed)                                                                                       \n",
      "                                                                                                  \n",
      " time_distributed_6 (TimeDi  (None, 15, 128, 128, 64)     36928     ['time_distributed_5[0][0]']  \n",
      " stributed)                                                                                       \n",
      "                                                                                                  \n",
      " time_distributed_7 (TimeDi  (None, 15, 128, 128, 64)     256       ['time_distributed_6[0][0]']  \n",
      " stributed)                                                                                       \n",
      "                                                                                                  \n",
      " add (Add)                   (None, 15, 128, 128, 64)     0         ['time_distributed_2[0][0]',  \n",
      "                                                                     'time_distributed_7[0][0]']  \n",
      "                                                                                                  \n",
      " time_distributed_8 (TimeDi  (None, 15, 128, 128, 64)     0         ['add[0][0]']                 \n",
      " stributed)                                                                                       \n",
      "                                                                                                  \n",
      " time_distributed_11 (TimeD  (None, 15, 64, 64, 128)      73856     ['time_distributed_8[0][0]']  \n",
      " istributed)                                                                                      \n",
      "                                                                                                  \n",
      " time_distributed_12 (TimeD  (None, 15, 64, 64, 128)      512       ['time_distributed_11[0][0]'] \n",
      " istributed)                                                                                      \n",
      "                                                                                                  \n",
      " time_distributed_13 (TimeD  (None, 15, 64, 64, 128)      0         ['time_distributed_12[0][0]'] \n",
      " istributed)                                                                                      \n",
      "                                                                                                  \n",
      " time_distributed_9 (TimeDi  (None, 15, 64, 64, 128)      8320      ['time_distributed_8[0][0]']  \n",
      " stributed)                                                                                       \n",
      "                                                                                                  \n",
      " time_distributed_14 (TimeD  (None, 15, 64, 64, 128)      147584    ['time_distributed_13[0][0]'] \n",
      " istributed)                                                                                      \n",
      "                                                                                                  \n",
      " time_distributed_10 (TimeD  (None, 15, 64, 64, 128)      512       ['time_distributed_9[0][0]']  \n",
      " istributed)                                                                                      \n",
      "                                                                                                  \n",
      " time_distributed_15 (TimeD  (None, 15, 64, 64, 128)      512       ['time_distributed_14[0][0]'] \n",
      " istributed)                                                                                      \n",
      "                                                                                                  \n",
      " add_1 (Add)                 (None, 15, 64, 64, 128)      0         ['time_distributed_10[0][0]', \n",
      "                                                                     'time_distributed_15[0][0]'] \n",
      "                                                                                                  \n",
      " time_distributed_16 (TimeD  (None, 15, 64, 64, 128)      0         ['add_1[0][0]']               \n",
      " istributed)                                                                                      \n",
      "                                                                                                  \n",
      " time_distributed_19 (TimeD  (None, 15, 32, 32, 256)      295168    ['time_distributed_16[0][0]'] \n",
      " istributed)                                                                                      \n",
      "                                                                                                  \n",
      " time_distributed_20 (TimeD  (None, 15, 32, 32, 256)      1024      ['time_distributed_19[0][0]'] \n",
      " istributed)                                                                                      \n",
      "                                                                                                  \n",
      " time_distributed_21 (TimeD  (None, 15, 32, 32, 256)      0         ['time_distributed_20[0][0]'] \n",
      " istributed)                                                                                      \n",
      "                                                                                                  \n",
      " time_distributed_17 (TimeD  (None, 15, 32, 32, 256)      33024     ['time_distributed_16[0][0]'] \n",
      " istributed)                                                                                      \n",
      "                                                                                                  \n",
      " time_distributed_22 (TimeD  (None, 15, 32, 32, 256)      590080    ['time_distributed_21[0][0]'] \n",
      " istributed)                                                                                      \n",
      "                                                                                                  \n",
      " time_distributed_18 (TimeD  (None, 15, 32, 32, 256)      1024      ['time_distributed_17[0][0]'] \n",
      " istributed)                                                                                      \n",
      "                                                                                                  \n",
      " time_distributed_23 (TimeD  (None, 15, 32, 32, 256)      1024      ['time_distributed_22[0][0]'] \n",
      " istributed)                                                                                      \n",
      "                                                                                                  \n",
      " add_2 (Add)                 (None, 15, 32, 32, 256)      0         ['time_distributed_18[0][0]', \n",
      "                                                                     'time_distributed_23[0][0]'] \n",
      "                                                                                                  \n",
      " time_distributed_24 (TimeD  (None, 15, 32, 32, 256)      0         ['add_2[0][0]']               \n",
      " istributed)                                                                                      \n",
      "                                                                                                  \n",
      " conv_lstm2d (ConvLSTM2D)    (None, 15, 32, 32, 128)      1769984   ['time_distributed_24[0][0]'] \n",
      "                                                                                                  \n",
      " batch_normalization_9 (Bat  (None, 15, 32, 32, 128)      512       ['conv_lstm2d[0][0]']         \n",
      " chNormalization)                                                                                 \n",
      "                                                                                                  \n",
      " time_distributed_25 (TimeD  (None, 15, 64, 64, 128)      147584    ['batch_normalization_9[0][0]'\n",
      " istributed)                                                        ]                             \n",
      "                                                                                                  \n",
      " time_distributed_26 (TimeD  (None, 15, 64, 64, 128)      512       ['time_distributed_25[0][0]'] \n",
      " istributed)                                                                                      \n",
      "                                                                                                  \n",
      " time_distributed_27 (TimeD  (None, 15, 64, 64, 128)      0         ['time_distributed_26[0][0]'] \n",
      " istributed)                                                                                      \n",
      "                                                                                                  \n",
      " time_distributed_28 (TimeD  (None, 15, 128, 128, 64)     73792     ['time_distributed_27[0][0]'] \n",
      " istributed)                                                                                      \n",
      "                                                                                                  \n",
      " time_distributed_29 (TimeD  (None, 15, 128, 128, 64)     256       ['time_distributed_28[0][0]'] \n",
      " istributed)                                                                                      \n",
      "                                                                                                  \n",
      " time_distributed_30 (TimeD  (None, 15, 128, 128, 64)     0         ['time_distributed_29[0][0]'] \n",
      " istributed)                                                                                      \n",
      "                                                                                                  \n",
      " time_distributed_31 (TimeD  (None, 15, 256, 256, 64)     36928     ['time_distributed_30[0][0]'] \n",
      " istributed)                                                                                      \n",
      "                                                                                                  \n",
      " time_distributed_32 (TimeD  (None, 15, 256, 256, 64)     256       ['time_distributed_31[0][0]'] \n",
      " istributed)                                                                                      \n",
      "                                                                                                  \n",
      " time_distributed_33 (TimeD  (None, 15, 256, 256, 64)     0         ['time_distributed_32[0][0]'] \n",
      " istributed)                                                                                      \n",
      "                                                                                                  \n",
      " time_distributed_34 (TimeD  (None, 15, 256, 256, 1)      65        ['time_distributed_33[0][0]'] \n",
      " istributed)                                                                                      \n",
      "                                                                                                  \n",
      "==================================================================================================\n",
      "Total params: 3266625 (12.46 MB)\n",
      "Trainable params: 3263169 (12.45 MB)\n",
      "Non-trainable params: 3456 (13.50 KB)\n",
      "__________________________________________________________________________________________________\n"
     ]
    }
   ],
   "source": [
    "model = lstm_resnet(256, 256, 3, 15)\n",
    "\n",
    "model.compile(optimizer='adam', loss='binary_crossentropy', metrics=[f1])\n",
    "model.summary()"
   ]
  },
  {
   "cell_type": "code",
   "execution_count": 3,
   "id": "4e01e4af-b88d-44d7-a08c-f08a0845b317",
   "metadata": {},
   "outputs": [],
   "source": [
    "train_gen = DataGenerator(\n",
    "    image_dir=\"data_v3_processed/train/images/images\",\n",
    "    mask_dir=\"data_v3_processed/train/masks/masks\",\n",
    "    batch_size=8,\n",
    "    time_steps=15,\n",
    "    img_size=(256,256),\n",
    "    normalize_images=True,\n",
    "    normalize_masks=False,\n",
    "    infinite=True,\n",
    ")"
   ]
  },
  {
   "cell_type": "code",
   "execution_count": 4,
   "id": "2d7e826f-86a9-4ec9-b739-9c96d8b669f3",
   "metadata": {},
   "outputs": [],
   "source": [
    "val_gen = DataGenerator(\n",
    "    image_dir=\"data_v3_processed/val/images/images\",\n",
    "    mask_dir=\"data_v3_processed/val/masks/masks\",\n",
    "    batch_size=8,\n",
    "    time_steps=15,\n",
    "    img_size=(256,256),\n",
    "    normalize_images=True,\n",
    "    normalize_masks=False,\n",
    ")"
   ]
  },
  {
   "cell_type": "code",
   "execution_count": 5,
   "id": "eac4d2a0-c7e0-40b0-be6f-155abeef8ba4",
   "metadata": {},
   "outputs": [
    {
     "name": "stderr",
     "output_type": "stream",
     "text": [
      "2025-07-26 17:44:31.264793: I external/local_xla/xla/stream_executor/cuda/cuda_dnn.cc:454] Loaded cuDNN version 8906\n",
      "2025-07-26 17:44:38.292752: I external/local_xla/xla/service/service.cc:168] XLA service 0x7fa397783f50 initialized for platform CUDA (this does not guarantee that XLA will be used). Devices:\n",
      "2025-07-26 17:44:38.293177: I external/local_xla/xla/service/service.cc:176]   StreamExecutor device (0): NVIDIA RTX 6000 Ada Generation, Compute Capability 8.9\n",
      "2025-07-26 17:44:38.298332: I tensorflow/compiler/mlir/tensorflow/utils/dump_mlir_util.cc:269] disabling MLIR crash reproducer, set env var `MLIR_CRASH_REPRODUCER_DIRECTORY` to enable.\n",
      "WARNING: All log messages before absl::InitializeLog() is called are written to STDERR\n",
      "I0000 00:00:1753551878.395189  159592 device_compiler.h:186] Compiled cluster using XLA!  This line is logged at most once for the lifetime of the process.\n"
     ]
    },
    {
     "name": "stdout",
     "output_type": "stream",
     "text": [
      "3000/3000 [==============================] - 1246s 408ms/step - loss: 0.0095 - f1: 0.7595 - val_loss: 0.0129 - val_f1: 0.5810\n"
     ]
    }
   ],
   "source": [
    "history = model.fit(train_gen,\n",
    "                    validation_data=val_gen,\n",
    "                    epochs=1,\n",
    "                    batch_size=8,\n",
    "                    steps_per_epoch=3000,\n",
    "                    validation_steps=13)"
   ]
  },
  {
   "cell_type": "code",
   "execution_count": 6,
   "id": "ce1d8c0c-f614-4008-8f56-8ca571663c38",
   "metadata": {},
   "outputs": [],
   "source": [
    "model.save(\"lstm_resnet_model.h5\")"
   ]
  }
 ],
 "metadata": {
  "kernelspec": {
   "display_name": "Python 3 (ipykernel)",
   "language": "python",
   "name": "python3"
  },
  "language_info": {
   "codemirror_mode": {
    "name": "ipython",
    "version": 3
   },
   "file_extension": ".py",
   "mimetype": "text/x-python",
   "name": "python",
   "nbconvert_exporter": "python",
   "pygments_lexer": "ipython3",
   "version": "3.11.0rc1"
  }
 },
 "nbformat": 4,
 "nbformat_minor": 5
}
