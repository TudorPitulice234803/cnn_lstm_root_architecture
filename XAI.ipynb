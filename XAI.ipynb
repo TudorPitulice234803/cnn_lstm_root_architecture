{
 "cells": [
  {
   "cell_type": "code",
   "execution_count": null,
   "id": "2c7288c7-3710-4ad7-823e-905a46ef6be6",
   "metadata": {},
   "outputs": [],
   "source": [
    "import matplotlib.pyplot as plt\n",
    "from matplotlib.image import imread\n",
    "\n",
    "# Load and display plots\n",
    "fig, axes = plt.subplots(2, 3, figsize=(10, 12))\n",
    "\n",
    "img1 = imread('Unet/unet_xai.png')\n",
    "img2 = imread('LSTM-Unet') \n",
    "img3 = imread('plot3.png')\n",
    "\n",
    "axes[0].imshow(img1)\n",
    "axes[0].axis('off')\n",
    "\n",
    "axes[1].imshow(img2)\n",
    "axes[1].axis('off')\n",
    "\n",
    "axes[2].imshow(img3)\n",
    "axes[2].axis('off')\n",
    "\n",
    "plt.tight_layout()\n",
    "plt.show()"
   ]
  }
 ],
 "metadata": {
  "kernelspec": {
   "display_name": "Python 3 (ipykernel)",
   "language": "python",
   "name": "python3"
  },
  "language_info": {
   "codemirror_mode": {
    "name": "ipython",
    "version": 3
   },
   "file_extension": ".py",
   "mimetype": "text/x-python",
   "name": "python",
   "nbconvert_exporter": "python",
   "pygments_lexer": "ipython3",
   "version": "3.11.0rc1"
  }
 },
 "nbformat": 4,
 "nbformat_minor": 5
}
